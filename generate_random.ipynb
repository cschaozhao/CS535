{
 "cells": [
  {
   "cell_type": "code",
   "execution_count": 7,
   "id": "51d74a5d",
   "metadata": {},
   "outputs": [],
   "source": [
    "import os\n",
    "import re\n",
    "import legacy\n",
    "import click\n",
    "import dnnlib\n",
    "import numpy as np\n",
    "import PIL.Image\n",
    "import torch\n",
    "import random\n",
    "\n",
    "from sklearn.decomposition import PCA\n",
    "from torch_utils import misc\n",
    "from torch_utils import persistence\n",
    "from torch_utils.ops import conv2d_resample\n",
    "from torch_utils.ops import upfirdn2d\n",
    "from torch_utils.ops import bias_act\n",
    "from torch_utils.ops import fma\n",
    "from typing import List, Optional"
   ]
  },
  {
   "cell_type": "code",
   "execution_count": 14,
   "id": "56097168",
   "metadata": {},
   "outputs": [],
   "source": [
    "def generate_from_seed(\n",
    "    network_pkl: str,\n",
    "    seeds: [int], \n",
    "    expanded_seeds: [List[int]],\n",
    "    outdir: str\n",
    "):\n",
    "    \n",
    "    print('Loading networks from \"%s\"...' % network_pkl)\n",
    "    device = torch.device('cuda')\n",
    "    print(network_pkl)\n",
    "    with dnnlib.util.open_url(network_pkl) as f:\n",
    "        G = legacy.load_network_pkl(f)['G_ema'].to(device)  # type: ignore\n",
    "\n",
    "    os.makedirs(outdir, exist_ok=True)\n",
    "            \n",
    "    # Generate images.\n",
    "    c = None\n",
    "    for seed_idx, seed in enumerate(expanded_seeds):\n",
    "        print('Generating image for seed %d (%d/%d) ...' % (seeds[seed_idx], seed_idx, len(seeds)))\n",
    "        z = torch.from_numpy(seed).to(device)\n",
    "        img = G(z, c)\n",
    "        img = (img.permute(0, 2, 3, 1) * 127.5 + 128).clamp(0, 255).to(torch.uint8)\n",
    "        PIL.Image.fromarray(img[0].cpu().numpy(), 'RGB').save(f'{outdir}/seed{seed_idx:04d}.png')"
   ]
  },
  {
   "cell_type": "code",
   "execution_count": 3,
   "id": "8dacb850",
   "metadata": {},
   "outputs": [],
   "source": [
    "url = 'D:\\Rutgers_Study_Files\\\\2021Fall\\\\535\\\\final_project\\\\network-snapshot-010483.pkl'\n",
    "device = torch.device('cuda')\n",
    "outdir_1 = 'D:\\\\Rutgers_Study_Files\\\\2021Fall\\\\535\\\\final_project\\\\generated'\n",
    "outdir_2 = 'D:\\\\Rutgers_Study_Files\\\\2021Fall\\\\535\\\\final_project\\\\generated_2'"
   ]
  },
  {
   "cell_type": "code",
   "execution_count": 4,
   "id": "aa002247",
   "metadata": {},
   "outputs": [],
   "source": [
    "def expand_seed(seeds):\n",
    "    result = []\n",
    "    vector_size = 512\n",
    "    for seed in seeds:\n",
    "        rnd = np.random.RandomState(seed)\n",
    "        result.append( rnd.randn(1, vector_size) )\n",
    "    return np.array(result)"
   ]
  },
  {
   "cell_type": "code",
   "execution_count": 5,
   "id": "7cb09c12",
   "metadata": {},
   "outputs": [],
   "source": [
    "def generate_seeds(size):\n",
    "    seeds = []\n",
    "    for i in range(size):\n",
    "        seeds.append(random.randint(0,100000))\n",
    "    expanded_seeds = expand_seed(seeds)\n",
    "    return expanded_seeds, seeds"
   ]
  },
  {
   "cell_type": "code",
   "execution_count": 20,
   "id": "8850dc6c",
   "metadata": {},
   "outputs": [
    {
     "data": {
      "text/plain": [
       "(10, 1, 512)"
      ]
     },
     "execution_count": 20,
     "metadata": {},
     "output_type": "execute_result"
    }
   ],
   "source": [
    "expanded_seeds, seeds = generate_seeds(10)\n",
    "expanded_seeds.shape"
   ]
  },
  {
   "cell_type": "code",
   "execution_count": 21,
   "id": "a42c2fc7",
   "metadata": {},
   "outputs": [
    {
     "data": {
      "text/plain": [
       "[25015, 90826, 76746, 7653, 21709, 30358, 92725, 54856, 32236, 85743]"
      ]
     },
     "execution_count": 21,
     "metadata": {},
     "output_type": "execute_result"
    }
   ],
   "source": [
    "seeds"
   ]
  },
  {
   "cell_type": "code",
   "execution_count": 22,
   "id": "ae27b151",
   "metadata": {},
   "outputs": [
    {
     "name": "stdout",
     "output_type": "stream",
     "text": [
      "Loading networks from \"D:\\Rutgers_Study_Files\\2021Fall\\535\\final_project\\network-snapshot-010483.pkl\"...\n",
      "D:\\Rutgers_Study_Files\\2021Fall\\535\\final_project\\network-snapshot-010483.pkl\n",
      "Generating image for seed 25015 (0/10) ...\n",
      "Setting up PyTorch plugin \"upfirdn2d_plugin\"... Failed!\n",
      "Setting up PyTorch plugin \"upfirdn2d_plugin\"... Failed!\n",
      "Setting up PyTorch plugin \"upfirdn2d_plugin\"... Failed!\n"
     ]
    },
    {
     "name": "stderr",
     "output_type": "stream",
     "text": [
      "C:\\Users\\cszha\\styleGAN\\stylegan2-ada-pytorch\\torch_utils\\ops\\upfirdn2d.py:34: UserWarning: Failed to build CUDA kernels for upfirdn2d. Falling back to slow reference implementation. Details:\n",
      "\n",
      "Traceback (most recent call last):\n",
      "  File \"C:\\Users\\cszha\\styleGAN\\stylegan2-ada-pytorch\\torch_utils\\ops\\upfirdn2d.py\", line 32, in _init\n",
      "    _plugin = custom_ops.get_plugin('upfirdn2d_plugin', sources=sources, extra_cuda_cflags=['--use_fast_math'])\n",
      "  File \"C:\\Users\\cszha\\styleGAN\\stylegan2-ada-pytorch\\torch_utils\\custom_ops.py\", line 64, in get_plugin\n",
      "    raise RuntimeError(f'Could not find MSVC/GCC/CLANG installation on this computer. Check _find_compiler_bindir() in \"{__file__}\".')\n",
      "RuntimeError: Could not find MSVC/GCC/CLANG installation on this computer. Check _find_compiler_bindir() in \"C:\\Users\\cszha\\styleGAN\\stylegan2-ada-pytorch\\torch_utils\\custom_ops.py\".\n",
      "\n",
      "  warnings.warn('Failed to build CUDA kernels for upfirdn2d. Falling back to slow reference implementation. Details:\\n\\n' + traceback.format_exc())\n",
      "C:\\Users\\cszha\\styleGAN\\stylegan2-ada-pytorch\\torch_utils\\ops\\upfirdn2d.py:34: UserWarning: Failed to build CUDA kernels for upfirdn2d. Falling back to slow reference implementation. Details:\n",
      "\n",
      "Traceback (most recent call last):\n",
      "  File \"C:\\Users\\cszha\\styleGAN\\stylegan2-ada-pytorch\\torch_utils\\ops\\upfirdn2d.py\", line 32, in _init\n",
      "    _plugin = custom_ops.get_plugin('upfirdn2d_plugin', sources=sources, extra_cuda_cflags=['--use_fast_math'])\n",
      "  File \"C:\\Users\\cszha\\styleGAN\\stylegan2-ada-pytorch\\torch_utils\\custom_ops.py\", line 64, in get_plugin\n",
      "    raise RuntimeError(f'Could not find MSVC/GCC/CLANG installation on this computer. Check _find_compiler_bindir() in \"{__file__}\".')\n",
      "RuntimeError: Could not find MSVC/GCC/CLANG installation on this computer. Check _find_compiler_bindir() in \"C:\\Users\\cszha\\styleGAN\\stylegan2-ada-pytorch\\torch_utils\\custom_ops.py\".\n",
      "\n",
      "  warnings.warn('Failed to build CUDA kernels for upfirdn2d. Falling back to slow reference implementation. Details:\\n\\n' + traceback.format_exc())\n",
      "C:\\Users\\cszha\\styleGAN\\stylegan2-ada-pytorch\\torch_utils\\ops\\upfirdn2d.py:34: UserWarning: Failed to build CUDA kernels for upfirdn2d. Falling back to slow reference implementation. Details:\n",
      "\n",
      "Traceback (most recent call last):\n",
      "  File \"C:\\Users\\cszha\\styleGAN\\stylegan2-ada-pytorch\\torch_utils\\ops\\upfirdn2d.py\", line 32, in _init\n",
      "    _plugin = custom_ops.get_plugin('upfirdn2d_plugin', sources=sources, extra_cuda_cflags=['--use_fast_math'])\n",
      "  File \"C:\\Users\\cszha\\styleGAN\\stylegan2-ada-pytorch\\torch_utils\\custom_ops.py\", line 64, in get_plugin\n",
      "    raise RuntimeError(f'Could not find MSVC/GCC/CLANG installation on this computer. Check _find_compiler_bindir() in \"{__file__}\".')\n",
      "RuntimeError: Could not find MSVC/GCC/CLANG installation on this computer. Check _find_compiler_bindir() in \"C:\\Users\\cszha\\styleGAN\\stylegan2-ada-pytorch\\torch_utils\\custom_ops.py\".\n",
      "\n",
      "  warnings.warn('Failed to build CUDA kernels for upfirdn2d. Falling back to slow reference implementation. Details:\\n\\n' + traceback.format_exc())\n"
     ]
    },
    {
     "name": "stdout",
     "output_type": "stream",
     "text": [
      "Setting up PyTorch plugin \"upfirdn2d_plugin\"... Failed!\n",
      "Setting up PyTorch plugin \"upfirdn2d_plugin\"... Failed!\n",
      "Setting up PyTorch plugin \"upfirdn2d_plugin\"... Failed!\n",
      "Setting up PyTorch plugin \"upfirdn2d_plugin\"... "
     ]
    },
    {
     "name": "stderr",
     "output_type": "stream",
     "text": [
      "C:\\Users\\cszha\\styleGAN\\stylegan2-ada-pytorch\\torch_utils\\ops\\upfirdn2d.py:34: UserWarning: Failed to build CUDA kernels for upfirdn2d. Falling back to slow reference implementation. Details:\n",
      "\n",
      "Traceback (most recent call last):\n",
      "  File \"C:\\Users\\cszha\\styleGAN\\stylegan2-ada-pytorch\\torch_utils\\ops\\upfirdn2d.py\", line 32, in _init\n",
      "    _plugin = custom_ops.get_plugin('upfirdn2d_plugin', sources=sources, extra_cuda_cflags=['--use_fast_math'])\n",
      "  File \"C:\\Users\\cszha\\styleGAN\\stylegan2-ada-pytorch\\torch_utils\\custom_ops.py\", line 64, in get_plugin\n",
      "    raise RuntimeError(f'Could not find MSVC/GCC/CLANG installation on this computer. Check _find_compiler_bindir() in \"{__file__}\".')\n",
      "RuntimeError: Could not find MSVC/GCC/CLANG installation on this computer. Check _find_compiler_bindir() in \"C:\\Users\\cszha\\styleGAN\\stylegan2-ada-pytorch\\torch_utils\\custom_ops.py\".\n",
      "\n",
      "  warnings.warn('Failed to build CUDA kernels for upfirdn2d. Falling back to slow reference implementation. Details:\\n\\n' + traceback.format_exc())\n",
      "C:\\Users\\cszha\\styleGAN\\stylegan2-ada-pytorch\\torch_utils\\ops\\upfirdn2d.py:34: UserWarning: Failed to build CUDA kernels for upfirdn2d. Falling back to slow reference implementation. Details:\n",
      "\n",
      "Traceback (most recent call last):\n",
      "  File \"C:\\Users\\cszha\\styleGAN\\stylegan2-ada-pytorch\\torch_utils\\ops\\upfirdn2d.py\", line 32, in _init\n",
      "    _plugin = custom_ops.get_plugin('upfirdn2d_plugin', sources=sources, extra_cuda_cflags=['--use_fast_math'])\n",
      "  File \"C:\\Users\\cszha\\styleGAN\\stylegan2-ada-pytorch\\torch_utils\\custom_ops.py\", line 64, in get_plugin\n",
      "    raise RuntimeError(f'Could not find MSVC/GCC/CLANG installation on this computer. Check _find_compiler_bindir() in \"{__file__}\".')\n",
      "RuntimeError: Could not find MSVC/GCC/CLANG installation on this computer. Check _find_compiler_bindir() in \"C:\\Users\\cszha\\styleGAN\\stylegan2-ada-pytorch\\torch_utils\\custom_ops.py\".\n",
      "\n",
      "  warnings.warn('Failed to build CUDA kernels for upfirdn2d. Falling back to slow reference implementation. Details:\\n\\n' + traceback.format_exc())\n",
      "C:\\Users\\cszha\\styleGAN\\stylegan2-ada-pytorch\\torch_utils\\ops\\upfirdn2d.py:34: UserWarning: Failed to build CUDA kernels for upfirdn2d. Falling back to slow reference implementation. Details:\n",
      "\n",
      "Traceback (most recent call last):\n",
      "  File \"C:\\Users\\cszha\\styleGAN\\stylegan2-ada-pytorch\\torch_utils\\ops\\upfirdn2d.py\", line 32, in _init\n",
      "    _plugin = custom_ops.get_plugin('upfirdn2d_plugin', sources=sources, extra_cuda_cflags=['--use_fast_math'])\n",
      "  File \"C:\\Users\\cszha\\styleGAN\\stylegan2-ada-pytorch\\torch_utils\\custom_ops.py\", line 64, in get_plugin\n",
      "    raise RuntimeError(f'Could not find MSVC/GCC/CLANG installation on this computer. Check _find_compiler_bindir() in \"{__file__}\".')\n",
      "RuntimeError: Could not find MSVC/GCC/CLANG installation on this computer. Check _find_compiler_bindir() in \"C:\\Users\\cszha\\styleGAN\\stylegan2-ada-pytorch\\torch_utils\\custom_ops.py\".\n",
      "\n",
      "  warnings.warn('Failed to build CUDA kernels for upfirdn2d. Falling back to slow reference implementation. Details:\\n\\n' + traceback.format_exc())\n"
     ]
    },
    {
     "name": "stdout",
     "output_type": "stream",
     "text": [
      "Failed!\n",
      "Setting up PyTorch plugin \"upfirdn2d_plugin\"... Failed!\n",
      "Setting up PyTorch plugin \"upfirdn2d_plugin\"... "
     ]
    },
    {
     "name": "stderr",
     "output_type": "stream",
     "text": [
      "C:\\Users\\cszha\\styleGAN\\stylegan2-ada-pytorch\\torch_utils\\ops\\upfirdn2d.py:34: UserWarning: Failed to build CUDA kernels for upfirdn2d. Falling back to slow reference implementation. Details:\n",
      "\n",
      "Traceback (most recent call last):\n",
      "  File \"C:\\Users\\cszha\\styleGAN\\stylegan2-ada-pytorch\\torch_utils\\ops\\upfirdn2d.py\", line 32, in _init\n",
      "    _plugin = custom_ops.get_plugin('upfirdn2d_plugin', sources=sources, extra_cuda_cflags=['--use_fast_math'])\n",
      "  File \"C:\\Users\\cszha\\styleGAN\\stylegan2-ada-pytorch\\torch_utils\\custom_ops.py\", line 64, in get_plugin\n",
      "    raise RuntimeError(f'Could not find MSVC/GCC/CLANG installation on this computer. Check _find_compiler_bindir() in \"{__file__}\".')\n",
      "RuntimeError: Could not find MSVC/GCC/CLANG installation on this computer. Check _find_compiler_bindir() in \"C:\\Users\\cszha\\styleGAN\\stylegan2-ada-pytorch\\torch_utils\\custom_ops.py\".\n",
      "\n",
      "  warnings.warn('Failed to build CUDA kernels for upfirdn2d. Falling back to slow reference implementation. Details:\\n\\n' + traceback.format_exc())\n",
      "C:\\Users\\cszha\\styleGAN\\stylegan2-ada-pytorch\\torch_utils\\ops\\upfirdn2d.py:34: UserWarning: Failed to build CUDA kernels for upfirdn2d. Falling back to slow reference implementation. Details:\n",
      "\n",
      "Traceback (most recent call last):\n",
      "  File \"C:\\Users\\cszha\\styleGAN\\stylegan2-ada-pytorch\\torch_utils\\ops\\upfirdn2d.py\", line 32, in _init\n",
      "    _plugin = custom_ops.get_plugin('upfirdn2d_plugin', sources=sources, extra_cuda_cflags=['--use_fast_math'])\n",
      "  File \"C:\\Users\\cszha\\styleGAN\\stylegan2-ada-pytorch\\torch_utils\\custom_ops.py\", line 64, in get_plugin\n",
      "    raise RuntimeError(f'Could not find MSVC/GCC/CLANG installation on this computer. Check _find_compiler_bindir() in \"{__file__}\".')\n",
      "RuntimeError: Could not find MSVC/GCC/CLANG installation on this computer. Check _find_compiler_bindir() in \"C:\\Users\\cszha\\styleGAN\\stylegan2-ada-pytorch\\torch_utils\\custom_ops.py\".\n",
      "\n",
      "  warnings.warn('Failed to build CUDA kernels for upfirdn2d. Falling back to slow reference implementation. Details:\\n\\n' + traceback.format_exc())\n"
     ]
    },
    {
     "name": "stdout",
     "output_type": "stream",
     "text": [
      "Failed!\n",
      "Setting up PyTorch plugin \"upfirdn2d_plugin\"... Failed!\n",
      "Setting up PyTorch plugin \"upfirdn2d_plugin\"... Failed!\n",
      "Setting up PyTorch plugin \"upfirdn2d_plugin\"... "
     ]
    },
    {
     "name": "stderr",
     "output_type": "stream",
     "text": [
      "C:\\Users\\cszha\\styleGAN\\stylegan2-ada-pytorch\\torch_utils\\ops\\upfirdn2d.py:34: UserWarning: Failed to build CUDA kernels for upfirdn2d. Falling back to slow reference implementation. Details:\n",
      "\n",
      "Traceback (most recent call last):\n",
      "  File \"C:\\Users\\cszha\\styleGAN\\stylegan2-ada-pytorch\\torch_utils\\ops\\upfirdn2d.py\", line 32, in _init\n",
      "    _plugin = custom_ops.get_plugin('upfirdn2d_plugin', sources=sources, extra_cuda_cflags=['--use_fast_math'])\n",
      "  File \"C:\\Users\\cszha\\styleGAN\\stylegan2-ada-pytorch\\torch_utils\\custom_ops.py\", line 64, in get_plugin\n",
      "    raise RuntimeError(f'Could not find MSVC/GCC/CLANG installation on this computer. Check _find_compiler_bindir() in \"{__file__}\".')\n",
      "RuntimeError: Could not find MSVC/GCC/CLANG installation on this computer. Check _find_compiler_bindir() in \"C:\\Users\\cszha\\styleGAN\\stylegan2-ada-pytorch\\torch_utils\\custom_ops.py\".\n",
      "\n",
      "  warnings.warn('Failed to build CUDA kernels for upfirdn2d. Falling back to slow reference implementation. Details:\\n\\n' + traceback.format_exc())\n",
      "C:\\Users\\cszha\\styleGAN\\stylegan2-ada-pytorch\\torch_utils\\ops\\upfirdn2d.py:34: UserWarning: Failed to build CUDA kernels for upfirdn2d. Falling back to slow reference implementation. Details:\n",
      "\n",
      "Traceback (most recent call last):\n",
      "  File \"C:\\Users\\cszha\\styleGAN\\stylegan2-ada-pytorch\\torch_utils\\ops\\upfirdn2d.py\", line 32, in _init\n",
      "    _plugin = custom_ops.get_plugin('upfirdn2d_plugin', sources=sources, extra_cuda_cflags=['--use_fast_math'])\n",
      "  File \"C:\\Users\\cszha\\styleGAN\\stylegan2-ada-pytorch\\torch_utils\\custom_ops.py\", line 64, in get_plugin\n",
      "    raise RuntimeError(f'Could not find MSVC/GCC/CLANG installation on this computer. Check _find_compiler_bindir() in \"{__file__}\".')\n",
      "RuntimeError: Could not find MSVC/GCC/CLANG installation on this computer. Check _find_compiler_bindir() in \"C:\\Users\\cszha\\styleGAN\\stylegan2-ada-pytorch\\torch_utils\\custom_ops.py\".\n",
      "\n",
      "  warnings.warn('Failed to build CUDA kernels for upfirdn2d. Falling back to slow reference implementation. Details:\\n\\n' + traceback.format_exc())\n",
      "C:\\Users\\cszha\\styleGAN\\stylegan2-ada-pytorch\\torch_utils\\ops\\upfirdn2d.py:34: UserWarning: Failed to build CUDA kernels for upfirdn2d. Falling back to slow reference implementation. Details:\n",
      "\n",
      "Traceback (most recent call last):\n",
      "  File \"C:\\Users\\cszha\\styleGAN\\stylegan2-ada-pytorch\\torch_utils\\ops\\upfirdn2d.py\", line 32, in _init\n",
      "    _plugin = custom_ops.get_plugin('upfirdn2d_plugin', sources=sources, extra_cuda_cflags=['--use_fast_math'])\n",
      "  File \"C:\\Users\\cszha\\styleGAN\\stylegan2-ada-pytorch\\torch_utils\\custom_ops.py\", line 64, in get_plugin\n",
      "    raise RuntimeError(f'Could not find MSVC/GCC/CLANG installation on this computer. Check _find_compiler_bindir() in \"{__file__}\".')\n",
      "RuntimeError: Could not find MSVC/GCC/CLANG installation on this computer. Check _find_compiler_bindir() in \"C:\\Users\\cszha\\styleGAN\\stylegan2-ada-pytorch\\torch_utils\\custom_ops.py\".\n",
      "\n",
      "  warnings.warn('Failed to build CUDA kernels for upfirdn2d. Falling back to slow reference implementation. Details:\\n\\n' + traceback.format_exc())\n"
     ]
    },
    {
     "name": "stdout",
     "output_type": "stream",
     "text": [
      "Failed!\n",
      "Generating image for seed 90826 (1/10) ...\n",
      "Setting up PyTorch plugin \"upfirdn2d_plugin\"... Failed!\n",
      "Setting up PyTorch plugin \"upfirdn2d_plugin\"... "
     ]
    },
    {
     "name": "stderr",
     "output_type": "stream",
     "text": [
      "C:\\Users\\cszha\\styleGAN\\stylegan2-ada-pytorch\\torch_utils\\ops\\upfirdn2d.py:34: UserWarning: Failed to build CUDA kernels for upfirdn2d. Falling back to slow reference implementation. Details:\n",
      "\n",
      "Traceback (most recent call last):\n",
      "  File \"C:\\Users\\cszha\\styleGAN\\stylegan2-ada-pytorch\\torch_utils\\ops\\upfirdn2d.py\", line 32, in _init\n",
      "    _plugin = custom_ops.get_plugin('upfirdn2d_plugin', sources=sources, extra_cuda_cflags=['--use_fast_math'])\n",
      "  File \"C:\\Users\\cszha\\styleGAN\\stylegan2-ada-pytorch\\torch_utils\\custom_ops.py\", line 64, in get_plugin\n",
      "    raise RuntimeError(f'Could not find MSVC/GCC/CLANG installation on this computer. Check _find_compiler_bindir() in \"{__file__}\".')\n",
      "RuntimeError: Could not find MSVC/GCC/CLANG installation on this computer. Check _find_compiler_bindir() in \"C:\\Users\\cszha\\styleGAN\\stylegan2-ada-pytorch\\torch_utils\\custom_ops.py\".\n",
      "\n",
      "  warnings.warn('Failed to build CUDA kernels for upfirdn2d. Falling back to slow reference implementation. Details:\\n\\n' + traceback.format_exc())\n",
      "C:\\Users\\cszha\\styleGAN\\stylegan2-ada-pytorch\\torch_utils\\ops\\upfirdn2d.py:34: UserWarning: Failed to build CUDA kernels for upfirdn2d. Falling back to slow reference implementation. Details:\n",
      "\n",
      "Traceback (most recent call last):\n",
      "  File \"C:\\Users\\cszha\\styleGAN\\stylegan2-ada-pytorch\\torch_utils\\ops\\upfirdn2d.py\", line 32, in _init\n",
      "    _plugin = custom_ops.get_plugin('upfirdn2d_plugin', sources=sources, extra_cuda_cflags=['--use_fast_math'])\n",
      "  File \"C:\\Users\\cszha\\styleGAN\\stylegan2-ada-pytorch\\torch_utils\\custom_ops.py\", line 64, in get_plugin\n",
      "    raise RuntimeError(f'Could not find MSVC/GCC/CLANG installation on this computer. Check _find_compiler_bindir() in \"{__file__}\".')\n",
      "RuntimeError: Could not find MSVC/GCC/CLANG installation on this computer. Check _find_compiler_bindir() in \"C:\\Users\\cszha\\styleGAN\\stylegan2-ada-pytorch\\torch_utils\\custom_ops.py\".\n",
      "\n",
      "  warnings.warn('Failed to build CUDA kernels for upfirdn2d. Falling back to slow reference implementation. Details:\\n\\n' + traceback.format_exc())\n"
     ]
    },
    {
     "name": "stdout",
     "output_type": "stream",
     "text": [
      "Failed!\n",
      "Setting up PyTorch plugin \"upfirdn2d_plugin\"... Failed!\n",
      "Setting up PyTorch plugin \"upfirdn2d_plugin\"... "
     ]
    },
    {
     "name": "stderr",
     "output_type": "stream",
     "text": [
      "C:\\Users\\cszha\\styleGAN\\stylegan2-ada-pytorch\\torch_utils\\ops\\upfirdn2d.py:34: UserWarning: Failed to build CUDA kernels for upfirdn2d. Falling back to slow reference implementation. Details:\n",
      "\n",
      "Traceback (most recent call last):\n",
      "  File \"C:\\Users\\cszha\\styleGAN\\stylegan2-ada-pytorch\\torch_utils\\ops\\upfirdn2d.py\", line 32, in _init\n",
      "    _plugin = custom_ops.get_plugin('upfirdn2d_plugin', sources=sources, extra_cuda_cflags=['--use_fast_math'])\n",
      "  File \"C:\\Users\\cszha\\styleGAN\\stylegan2-ada-pytorch\\torch_utils\\custom_ops.py\", line 64, in get_plugin\n",
      "    raise RuntimeError(f'Could not find MSVC/GCC/CLANG installation on this computer. Check _find_compiler_bindir() in \"{__file__}\".')\n",
      "RuntimeError: Could not find MSVC/GCC/CLANG installation on this computer. Check _find_compiler_bindir() in \"C:\\Users\\cszha\\styleGAN\\stylegan2-ada-pytorch\\torch_utils\\custom_ops.py\".\n",
      "\n",
      "  warnings.warn('Failed to build CUDA kernels for upfirdn2d. Falling back to slow reference implementation. Details:\\n\\n' + traceback.format_exc())\n",
      "C:\\Users\\cszha\\styleGAN\\stylegan2-ada-pytorch\\torch_utils\\ops\\upfirdn2d.py:34: UserWarning: Failed to build CUDA kernels for upfirdn2d. Falling back to slow reference implementation. Details:\n",
      "\n",
      "Traceback (most recent call last):\n",
      "  File \"C:\\Users\\cszha\\styleGAN\\stylegan2-ada-pytorch\\torch_utils\\ops\\upfirdn2d.py\", line 32, in _init\n",
      "    _plugin = custom_ops.get_plugin('upfirdn2d_plugin', sources=sources, extra_cuda_cflags=['--use_fast_math'])\n",
      "  File \"C:\\Users\\cszha\\styleGAN\\stylegan2-ada-pytorch\\torch_utils\\custom_ops.py\", line 64, in get_plugin\n",
      "    raise RuntimeError(f'Could not find MSVC/GCC/CLANG installation on this computer. Check _find_compiler_bindir() in \"{__file__}\".')\n",
      "RuntimeError: Could not find MSVC/GCC/CLANG installation on this computer. Check _find_compiler_bindir() in \"C:\\Users\\cszha\\styleGAN\\stylegan2-ada-pytorch\\torch_utils\\custom_ops.py\".\n",
      "\n",
      "  warnings.warn('Failed to build CUDA kernels for upfirdn2d. Falling back to slow reference implementation. Details:\\n\\n' + traceback.format_exc())\n"
     ]
    },
    {
     "name": "stdout",
     "output_type": "stream",
     "text": [
      "Failed!\n",
      "Setting up PyTorch plugin \"upfirdn2d_plugin\"... Failed!\n",
      "Setting up PyTorch plugin \"upfirdn2d_plugin\"... "
     ]
    },
    {
     "name": "stderr",
     "output_type": "stream",
     "text": [
      "C:\\Users\\cszha\\styleGAN\\stylegan2-ada-pytorch\\torch_utils\\ops\\upfirdn2d.py:34: UserWarning: Failed to build CUDA kernels for upfirdn2d. Falling back to slow reference implementation. Details:\n",
      "\n",
      "Traceback (most recent call last):\n",
      "  File \"C:\\Users\\cszha\\styleGAN\\stylegan2-ada-pytorch\\torch_utils\\ops\\upfirdn2d.py\", line 32, in _init\n",
      "    _plugin = custom_ops.get_plugin('upfirdn2d_plugin', sources=sources, extra_cuda_cflags=['--use_fast_math'])\n",
      "  File \"C:\\Users\\cszha\\styleGAN\\stylegan2-ada-pytorch\\torch_utils\\custom_ops.py\", line 64, in get_plugin\n",
      "    raise RuntimeError(f'Could not find MSVC/GCC/CLANG installation on this computer. Check _find_compiler_bindir() in \"{__file__}\".')\n",
      "RuntimeError: Could not find MSVC/GCC/CLANG installation on this computer. Check _find_compiler_bindir() in \"C:\\Users\\cszha\\styleGAN\\stylegan2-ada-pytorch\\torch_utils\\custom_ops.py\".\n",
      "\n",
      "  warnings.warn('Failed to build CUDA kernels for upfirdn2d. Falling back to slow reference implementation. Details:\\n\\n' + traceback.format_exc())\n",
      "C:\\Users\\cszha\\styleGAN\\stylegan2-ada-pytorch\\torch_utils\\ops\\upfirdn2d.py:34: UserWarning: Failed to build CUDA kernels for upfirdn2d. Falling back to slow reference implementation. Details:\n",
      "\n",
      "Traceback (most recent call last):\n",
      "  File \"C:\\Users\\cszha\\styleGAN\\stylegan2-ada-pytorch\\torch_utils\\ops\\upfirdn2d.py\", line 32, in _init\n",
      "    _plugin = custom_ops.get_plugin('upfirdn2d_plugin', sources=sources, extra_cuda_cflags=['--use_fast_math'])\n",
      "  File \"C:\\Users\\cszha\\styleGAN\\stylegan2-ada-pytorch\\torch_utils\\custom_ops.py\", line 64, in get_plugin\n",
      "    raise RuntimeError(f'Could not find MSVC/GCC/CLANG installation on this computer. Check _find_compiler_bindir() in \"{__file__}\".')\n",
      "RuntimeError: Could not find MSVC/GCC/CLANG installation on this computer. Check _find_compiler_bindir() in \"C:\\Users\\cszha\\styleGAN\\stylegan2-ada-pytorch\\torch_utils\\custom_ops.py\".\n",
      "\n",
      "  warnings.warn('Failed to build CUDA kernels for upfirdn2d. Falling back to slow reference implementation. Details:\\n\\n' + traceback.format_exc())\n"
     ]
    },
    {
     "name": "stdout",
     "output_type": "stream",
     "text": [
      "Failed!\n",
      "Setting up PyTorch plugin \"upfirdn2d_plugin\"... Failed!\n",
      "Setting up PyTorch plugin \"upfirdn2d_plugin\"... Failed!\n"
     ]
    },
    {
     "name": "stderr",
     "output_type": "stream",
     "text": [
      "C:\\Users\\cszha\\styleGAN\\stylegan2-ada-pytorch\\torch_utils\\ops\\upfirdn2d.py:34: UserWarning: Failed to build CUDA kernels for upfirdn2d. Falling back to slow reference implementation. Details:\n",
      "\n",
      "Traceback (most recent call last):\n",
      "  File \"C:\\Users\\cszha\\styleGAN\\stylegan2-ada-pytorch\\torch_utils\\ops\\upfirdn2d.py\", line 32, in _init\n",
      "    _plugin = custom_ops.get_plugin('upfirdn2d_plugin', sources=sources, extra_cuda_cflags=['--use_fast_math'])\n",
      "  File \"C:\\Users\\cszha\\styleGAN\\stylegan2-ada-pytorch\\torch_utils\\custom_ops.py\", line 64, in get_plugin\n",
      "    raise RuntimeError(f'Could not find MSVC/GCC/CLANG installation on this computer. Check _find_compiler_bindir() in \"{__file__}\".')\n",
      "RuntimeError: Could not find MSVC/GCC/CLANG installation on this computer. Check _find_compiler_bindir() in \"C:\\Users\\cszha\\styleGAN\\stylegan2-ada-pytorch\\torch_utils\\custom_ops.py\".\n",
      "\n",
      "  warnings.warn('Failed to build CUDA kernels for upfirdn2d. Falling back to slow reference implementation. Details:\\n\\n' + traceback.format_exc())\n",
      "C:\\Users\\cszha\\styleGAN\\stylegan2-ada-pytorch\\torch_utils\\ops\\upfirdn2d.py:34: UserWarning: Failed to build CUDA kernels for upfirdn2d. Falling back to slow reference implementation. Details:\n",
      "\n",
      "Traceback (most recent call last):\n",
      "  File \"C:\\Users\\cszha\\styleGAN\\stylegan2-ada-pytorch\\torch_utils\\ops\\upfirdn2d.py\", line 32, in _init\n",
      "    _plugin = custom_ops.get_plugin('upfirdn2d_plugin', sources=sources, extra_cuda_cflags=['--use_fast_math'])\n",
      "  File \"C:\\Users\\cszha\\styleGAN\\stylegan2-ada-pytorch\\torch_utils\\custom_ops.py\", line 64, in get_plugin\n",
      "    raise RuntimeError(f'Could not find MSVC/GCC/CLANG installation on this computer. Check _find_compiler_bindir() in \"{__file__}\".')\n",
      "RuntimeError: Could not find MSVC/GCC/CLANG installation on this computer. Check _find_compiler_bindir() in \"C:\\Users\\cszha\\styleGAN\\stylegan2-ada-pytorch\\torch_utils\\custom_ops.py\".\n",
      "\n",
      "  warnings.warn('Failed to build CUDA kernels for upfirdn2d. Falling back to slow reference implementation. Details:\\n\\n' + traceback.format_exc())\n"
     ]
    },
    {
     "name": "stdout",
     "output_type": "stream",
     "text": [
      "Setting up PyTorch plugin \"upfirdn2d_plugin\"... Failed!\n",
      "Setting up PyTorch plugin \"upfirdn2d_plugin\"... Failed!\n"
     ]
    },
    {
     "name": "stderr",
     "output_type": "stream",
     "text": [
      "C:\\Users\\cszha\\styleGAN\\stylegan2-ada-pytorch\\torch_utils\\ops\\upfirdn2d.py:34: UserWarning: Failed to build CUDA kernels for upfirdn2d. Falling back to slow reference implementation. Details:\n",
      "\n",
      "Traceback (most recent call last):\n",
      "  File \"C:\\Users\\cszha\\styleGAN\\stylegan2-ada-pytorch\\torch_utils\\ops\\upfirdn2d.py\", line 32, in _init\n",
      "    _plugin = custom_ops.get_plugin('upfirdn2d_plugin', sources=sources, extra_cuda_cflags=['--use_fast_math'])\n",
      "  File \"C:\\Users\\cszha\\styleGAN\\stylegan2-ada-pytorch\\torch_utils\\custom_ops.py\", line 64, in get_plugin\n",
      "    raise RuntimeError(f'Could not find MSVC/GCC/CLANG installation on this computer. Check _find_compiler_bindir() in \"{__file__}\".')\n",
      "RuntimeError: Could not find MSVC/GCC/CLANG installation on this computer. Check _find_compiler_bindir() in \"C:\\Users\\cszha\\styleGAN\\stylegan2-ada-pytorch\\torch_utils\\custom_ops.py\".\n",
      "\n",
      "  warnings.warn('Failed to build CUDA kernels for upfirdn2d. Falling back to slow reference implementation. Details:\\n\\n' + traceback.format_exc())\n",
      "C:\\Users\\cszha\\styleGAN\\stylegan2-ada-pytorch\\torch_utils\\ops\\upfirdn2d.py:34: UserWarning: Failed to build CUDA kernels for upfirdn2d. Falling back to slow reference implementation. Details:\n",
      "\n",
      "Traceback (most recent call last):\n",
      "  File \"C:\\Users\\cszha\\styleGAN\\stylegan2-ada-pytorch\\torch_utils\\ops\\upfirdn2d.py\", line 32, in _init\n",
      "    _plugin = custom_ops.get_plugin('upfirdn2d_plugin', sources=sources, extra_cuda_cflags=['--use_fast_math'])\n",
      "  File \"C:\\Users\\cszha\\styleGAN\\stylegan2-ada-pytorch\\torch_utils\\custom_ops.py\", line 64, in get_plugin\n",
      "    raise RuntimeError(f'Could not find MSVC/GCC/CLANG installation on this computer. Check _find_compiler_bindir() in \"{__file__}\".')\n",
      "RuntimeError: Could not find MSVC/GCC/CLANG installation on this computer. Check _find_compiler_bindir() in \"C:\\Users\\cszha\\styleGAN\\stylegan2-ada-pytorch\\torch_utils\\custom_ops.py\".\n",
      "\n",
      "  warnings.warn('Failed to build CUDA kernels for upfirdn2d. Falling back to slow reference implementation. Details:\\n\\n' + traceback.format_exc())\n"
     ]
    },
    {
     "name": "stdout",
     "output_type": "stream",
     "text": [
      "Setting up PyTorch plugin \"upfirdn2d_plugin\"... Failed!\n",
      "Setting up PyTorch plugin \"upfirdn2d_plugin\"... "
     ]
    },
    {
     "name": "stderr",
     "output_type": "stream",
     "text": [
      "C:\\Users\\cszha\\styleGAN\\stylegan2-ada-pytorch\\torch_utils\\ops\\upfirdn2d.py:34: UserWarning: Failed to build CUDA kernels for upfirdn2d. Falling back to slow reference implementation. Details:\n",
      "\n",
      "Traceback (most recent call last):\n",
      "  File \"C:\\Users\\cszha\\styleGAN\\stylegan2-ada-pytorch\\torch_utils\\ops\\upfirdn2d.py\", line 32, in _init\n",
      "    _plugin = custom_ops.get_plugin('upfirdn2d_plugin', sources=sources, extra_cuda_cflags=['--use_fast_math'])\n",
      "  File \"C:\\Users\\cszha\\styleGAN\\stylegan2-ada-pytorch\\torch_utils\\custom_ops.py\", line 64, in get_plugin\n",
      "    raise RuntimeError(f'Could not find MSVC/GCC/CLANG installation on this computer. Check _find_compiler_bindir() in \"{__file__}\".')\n",
      "RuntimeError: Could not find MSVC/GCC/CLANG installation on this computer. Check _find_compiler_bindir() in \"C:\\Users\\cszha\\styleGAN\\stylegan2-ada-pytorch\\torch_utils\\custom_ops.py\".\n",
      "\n",
      "  warnings.warn('Failed to build CUDA kernels for upfirdn2d. Falling back to slow reference implementation. Details:\\n\\n' + traceback.format_exc())\n",
      "C:\\Users\\cszha\\styleGAN\\stylegan2-ada-pytorch\\torch_utils\\ops\\upfirdn2d.py:34: UserWarning: Failed to build CUDA kernels for upfirdn2d. Falling back to slow reference implementation. Details:\n",
      "\n",
      "Traceback (most recent call last):\n",
      "  File \"C:\\Users\\cszha\\styleGAN\\stylegan2-ada-pytorch\\torch_utils\\ops\\upfirdn2d.py\", line 32, in _init\n",
      "    _plugin = custom_ops.get_plugin('upfirdn2d_plugin', sources=sources, extra_cuda_cflags=['--use_fast_math'])\n",
      "  File \"C:\\Users\\cszha\\styleGAN\\stylegan2-ada-pytorch\\torch_utils\\custom_ops.py\", line 64, in get_plugin\n",
      "    raise RuntimeError(f'Could not find MSVC/GCC/CLANG installation on this computer. Check _find_compiler_bindir() in \"{__file__}\".')\n",
      "RuntimeError: Could not find MSVC/GCC/CLANG installation on this computer. Check _find_compiler_bindir() in \"C:\\Users\\cszha\\styleGAN\\stylegan2-ada-pytorch\\torch_utils\\custom_ops.py\".\n",
      "\n",
      "  warnings.warn('Failed to build CUDA kernels for upfirdn2d. Falling back to slow reference implementation. Details:\\n\\n' + traceback.format_exc())\n"
     ]
    },
    {
     "name": "stdout",
     "output_type": "stream",
     "text": [
      "Failed!\n",
      "Generating image for seed 76746 (2/10) ...\n",
      "Setting up PyTorch plugin \"upfirdn2d_plugin\"... Failed!\n",
      "Setting up PyTorch plugin \"upfirdn2d_plugin\"... "
     ]
    },
    {
     "name": "stderr",
     "output_type": "stream",
     "text": [
      "C:\\Users\\cszha\\styleGAN\\stylegan2-ada-pytorch\\torch_utils\\ops\\upfirdn2d.py:34: UserWarning: Failed to build CUDA kernels for upfirdn2d. Falling back to slow reference implementation. Details:\n",
      "\n",
      "Traceback (most recent call last):\n",
      "  File \"C:\\Users\\cszha\\styleGAN\\stylegan2-ada-pytorch\\torch_utils\\ops\\upfirdn2d.py\", line 32, in _init\n",
      "    _plugin = custom_ops.get_plugin('upfirdn2d_plugin', sources=sources, extra_cuda_cflags=['--use_fast_math'])\n",
      "  File \"C:\\Users\\cszha\\styleGAN\\stylegan2-ada-pytorch\\torch_utils\\custom_ops.py\", line 64, in get_plugin\n",
      "    raise RuntimeError(f'Could not find MSVC/GCC/CLANG installation on this computer. Check _find_compiler_bindir() in \"{__file__}\".')\n",
      "RuntimeError: Could not find MSVC/GCC/CLANG installation on this computer. Check _find_compiler_bindir() in \"C:\\Users\\cszha\\styleGAN\\stylegan2-ada-pytorch\\torch_utils\\custom_ops.py\".\n",
      "\n",
      "  warnings.warn('Failed to build CUDA kernels for upfirdn2d. Falling back to slow reference implementation. Details:\\n\\n' + traceback.format_exc())\n",
      "C:\\Users\\cszha\\styleGAN\\stylegan2-ada-pytorch\\torch_utils\\ops\\upfirdn2d.py:34: UserWarning: Failed to build CUDA kernels for upfirdn2d. Falling back to slow reference implementation. Details:\n",
      "\n",
      "Traceback (most recent call last):\n",
      "  File \"C:\\Users\\cszha\\styleGAN\\stylegan2-ada-pytorch\\torch_utils\\ops\\upfirdn2d.py\", line 32, in _init\n",
      "    _plugin = custom_ops.get_plugin('upfirdn2d_plugin', sources=sources, extra_cuda_cflags=['--use_fast_math'])\n",
      "  File \"C:\\Users\\cszha\\styleGAN\\stylegan2-ada-pytorch\\torch_utils\\custom_ops.py\", line 64, in get_plugin\n",
      "    raise RuntimeError(f'Could not find MSVC/GCC/CLANG installation on this computer. Check _find_compiler_bindir() in \"{__file__}\".')\n",
      "RuntimeError: Could not find MSVC/GCC/CLANG installation on this computer. Check _find_compiler_bindir() in \"C:\\Users\\cszha\\styleGAN\\stylegan2-ada-pytorch\\torch_utils\\custom_ops.py\".\n",
      "\n",
      "  warnings.warn('Failed to build CUDA kernels for upfirdn2d. Falling back to slow reference implementation. Details:\\n\\n' + traceback.format_exc())\n"
     ]
    },
    {
     "name": "stdout",
     "output_type": "stream",
     "text": [
      "Failed!\n",
      "Setting up PyTorch plugin \"upfirdn2d_plugin\"... Failed!\n",
      "Setting up PyTorch plugin \"upfirdn2d_plugin\"... "
     ]
    },
    {
     "name": "stderr",
     "output_type": "stream",
     "text": [
      "C:\\Users\\cszha\\styleGAN\\stylegan2-ada-pytorch\\torch_utils\\ops\\upfirdn2d.py:34: UserWarning: Failed to build CUDA kernels for upfirdn2d. Falling back to slow reference implementation. Details:\n",
      "\n",
      "Traceback (most recent call last):\n",
      "  File \"C:\\Users\\cszha\\styleGAN\\stylegan2-ada-pytorch\\torch_utils\\ops\\upfirdn2d.py\", line 32, in _init\n",
      "    _plugin = custom_ops.get_plugin('upfirdn2d_plugin', sources=sources, extra_cuda_cflags=['--use_fast_math'])\n",
      "  File \"C:\\Users\\cszha\\styleGAN\\stylegan2-ada-pytorch\\torch_utils\\custom_ops.py\", line 64, in get_plugin\n",
      "    raise RuntimeError(f'Could not find MSVC/GCC/CLANG installation on this computer. Check _find_compiler_bindir() in \"{__file__}\".')\n",
      "RuntimeError: Could not find MSVC/GCC/CLANG installation on this computer. Check _find_compiler_bindir() in \"C:\\Users\\cszha\\styleGAN\\stylegan2-ada-pytorch\\torch_utils\\custom_ops.py\".\n",
      "\n",
      "  warnings.warn('Failed to build CUDA kernels for upfirdn2d. Falling back to slow reference implementation. Details:\\n\\n' + traceback.format_exc())\n",
      "C:\\Users\\cszha\\styleGAN\\stylegan2-ada-pytorch\\torch_utils\\ops\\upfirdn2d.py:34: UserWarning: Failed to build CUDA kernels for upfirdn2d. Falling back to slow reference implementation. Details:\n",
      "\n",
      "Traceback (most recent call last):\n",
      "  File \"C:\\Users\\cszha\\styleGAN\\stylegan2-ada-pytorch\\torch_utils\\ops\\upfirdn2d.py\", line 32, in _init\n",
      "    _plugin = custom_ops.get_plugin('upfirdn2d_plugin', sources=sources, extra_cuda_cflags=['--use_fast_math'])\n",
      "  File \"C:\\Users\\cszha\\styleGAN\\stylegan2-ada-pytorch\\torch_utils\\custom_ops.py\", line 64, in get_plugin\n",
      "    raise RuntimeError(f'Could not find MSVC/GCC/CLANG installation on this computer. Check _find_compiler_bindir() in \"{__file__}\".')\n",
      "RuntimeError: Could not find MSVC/GCC/CLANG installation on this computer. Check _find_compiler_bindir() in \"C:\\Users\\cszha\\styleGAN\\stylegan2-ada-pytorch\\torch_utils\\custom_ops.py\".\n",
      "\n",
      "  warnings.warn('Failed to build CUDA kernels for upfirdn2d. Falling back to slow reference implementation. Details:\\n\\n' + traceback.format_exc())\n"
     ]
    },
    {
     "name": "stdout",
     "output_type": "stream",
     "text": [
      "Failed!\n",
      "Setting up PyTorch plugin \"upfirdn2d_plugin\"... Failed!\n",
      "Setting up PyTorch plugin \"upfirdn2d_plugin\"... "
     ]
    },
    {
     "name": "stderr",
     "output_type": "stream",
     "text": [
      "C:\\Users\\cszha\\styleGAN\\stylegan2-ada-pytorch\\torch_utils\\ops\\upfirdn2d.py:34: UserWarning: Failed to build CUDA kernels for upfirdn2d. Falling back to slow reference implementation. Details:\n",
      "\n",
      "Traceback (most recent call last):\n",
      "  File \"C:\\Users\\cszha\\styleGAN\\stylegan2-ada-pytorch\\torch_utils\\ops\\upfirdn2d.py\", line 32, in _init\n",
      "    _plugin = custom_ops.get_plugin('upfirdn2d_plugin', sources=sources, extra_cuda_cflags=['--use_fast_math'])\n",
      "  File \"C:\\Users\\cszha\\styleGAN\\stylegan2-ada-pytorch\\torch_utils\\custom_ops.py\", line 64, in get_plugin\n",
      "    raise RuntimeError(f'Could not find MSVC/GCC/CLANG installation on this computer. Check _find_compiler_bindir() in \"{__file__}\".')\n",
      "RuntimeError: Could not find MSVC/GCC/CLANG installation on this computer. Check _find_compiler_bindir() in \"C:\\Users\\cszha\\styleGAN\\stylegan2-ada-pytorch\\torch_utils\\custom_ops.py\".\n",
      "\n",
      "  warnings.warn('Failed to build CUDA kernels for upfirdn2d. Falling back to slow reference implementation. Details:\\n\\n' + traceback.format_exc())\n",
      "C:\\Users\\cszha\\styleGAN\\stylegan2-ada-pytorch\\torch_utils\\ops\\upfirdn2d.py:34: UserWarning: Failed to build CUDA kernels for upfirdn2d. Falling back to slow reference implementation. Details:\n",
      "\n",
      "Traceback (most recent call last):\n",
      "  File \"C:\\Users\\cszha\\styleGAN\\stylegan2-ada-pytorch\\torch_utils\\ops\\upfirdn2d.py\", line 32, in _init\n",
      "    _plugin = custom_ops.get_plugin('upfirdn2d_plugin', sources=sources, extra_cuda_cflags=['--use_fast_math'])\n",
      "  File \"C:\\Users\\cszha\\styleGAN\\stylegan2-ada-pytorch\\torch_utils\\custom_ops.py\", line 64, in get_plugin\n",
      "    raise RuntimeError(f'Could not find MSVC/GCC/CLANG installation on this computer. Check _find_compiler_bindir() in \"{__file__}\".')\n",
      "RuntimeError: Could not find MSVC/GCC/CLANG installation on this computer. Check _find_compiler_bindir() in \"C:\\Users\\cszha\\styleGAN\\stylegan2-ada-pytorch\\torch_utils\\custom_ops.py\".\n",
      "\n",
      "  warnings.warn('Failed to build CUDA kernels for upfirdn2d. Falling back to slow reference implementation. Details:\\n\\n' + traceback.format_exc())\n",
      "C:\\Users\\cszha\\styleGAN\\stylegan2-ada-pytorch\\torch_utils\\ops\\upfirdn2d.py:34: UserWarning: Failed to build CUDA kernels for upfirdn2d. Falling back to slow reference implementation. Details:\n",
      "\n",
      "Traceback (most recent call last):\n",
      "  File \"C:\\Users\\cszha\\styleGAN\\stylegan2-ada-pytorch\\torch_utils\\ops\\upfirdn2d.py\", line 32, in _init\n",
      "    _plugin = custom_ops.get_plugin('upfirdn2d_plugin', sources=sources, extra_cuda_cflags=['--use_fast_math'])\n",
      "  File \"C:\\Users\\cszha\\styleGAN\\stylegan2-ada-pytorch\\torch_utils\\custom_ops.py\", line 64, in get_plugin\n",
      "    raise RuntimeError(f'Could not find MSVC/GCC/CLANG installation on this computer. Check _find_compiler_bindir() in \"{__file__}\".')\n",
      "RuntimeError: Could not find MSVC/GCC/CLANG installation on this computer. Check _find_compiler_bindir() in \"C:\\Users\\cszha\\styleGAN\\stylegan2-ada-pytorch\\torch_utils\\custom_ops.py\".\n",
      "\n",
      "  warnings.warn('Failed to build CUDA kernels for upfirdn2d. Falling back to slow reference implementation. Details:\\n\\n' + traceback.format_exc())\n"
     ]
    },
    {
     "name": "stdout",
     "output_type": "stream",
     "text": [
      "Failed!\n",
      "Setting up PyTorch plugin \"upfirdn2d_plugin\"... Failed!\n",
      "Setting up PyTorch plugin \"upfirdn2d_plugin\"... Failed!\n",
      "Setting up PyTorch plugin \"upfirdn2d_plugin\"... Failed!\n",
      "Setting up PyTorch plugin \"upfirdn2d_plugin\"... "
     ]
    },
    {
     "name": "stderr",
     "output_type": "stream",
     "text": [
      "C:\\Users\\cszha\\styleGAN\\stylegan2-ada-pytorch\\torch_utils\\ops\\upfirdn2d.py:34: UserWarning: Failed to build CUDA kernels for upfirdn2d. Falling back to slow reference implementation. Details:\n",
      "\n",
      "Traceback (most recent call last):\n",
      "  File \"C:\\Users\\cszha\\styleGAN\\stylegan2-ada-pytorch\\torch_utils\\ops\\upfirdn2d.py\", line 32, in _init\n",
      "    _plugin = custom_ops.get_plugin('upfirdn2d_plugin', sources=sources, extra_cuda_cflags=['--use_fast_math'])\n",
      "  File \"C:\\Users\\cszha\\styleGAN\\stylegan2-ada-pytorch\\torch_utils\\custom_ops.py\", line 64, in get_plugin\n",
      "    raise RuntimeError(f'Could not find MSVC/GCC/CLANG installation on this computer. Check _find_compiler_bindir() in \"{__file__}\".')\n",
      "RuntimeError: Could not find MSVC/GCC/CLANG installation on this computer. Check _find_compiler_bindir() in \"C:\\Users\\cszha\\styleGAN\\stylegan2-ada-pytorch\\torch_utils\\custom_ops.py\".\n",
      "\n",
      "  warnings.warn('Failed to build CUDA kernels for upfirdn2d. Falling back to slow reference implementation. Details:\\n\\n' + traceback.format_exc())\n",
      "C:\\Users\\cszha\\styleGAN\\stylegan2-ada-pytorch\\torch_utils\\ops\\upfirdn2d.py:34: UserWarning: Failed to build CUDA kernels for upfirdn2d. Falling back to slow reference implementation. Details:\n",
      "\n",
      "Traceback (most recent call last):\n",
      "  File \"C:\\Users\\cszha\\styleGAN\\stylegan2-ada-pytorch\\torch_utils\\ops\\upfirdn2d.py\", line 32, in _init\n",
      "    _plugin = custom_ops.get_plugin('upfirdn2d_plugin', sources=sources, extra_cuda_cflags=['--use_fast_math'])\n",
      "  File \"C:\\Users\\cszha\\styleGAN\\stylegan2-ada-pytorch\\torch_utils\\custom_ops.py\", line 64, in get_plugin\n",
      "    raise RuntimeError(f'Could not find MSVC/GCC/CLANG installation on this computer. Check _find_compiler_bindir() in \"{__file__}\".')\n",
      "RuntimeError: Could not find MSVC/GCC/CLANG installation on this computer. Check _find_compiler_bindir() in \"C:\\Users\\cszha\\styleGAN\\stylegan2-ada-pytorch\\torch_utils\\custom_ops.py\".\n",
      "\n",
      "  warnings.warn('Failed to build CUDA kernels for upfirdn2d. Falling back to slow reference implementation. Details:\\n\\n' + traceback.format_exc())\n",
      "C:\\Users\\cszha\\styleGAN\\stylegan2-ada-pytorch\\torch_utils\\ops\\upfirdn2d.py:34: UserWarning: Failed to build CUDA kernels for upfirdn2d. Falling back to slow reference implementation. Details:\n",
      "\n",
      "Traceback (most recent call last):\n",
      "  File \"C:\\Users\\cszha\\styleGAN\\stylegan2-ada-pytorch\\torch_utils\\ops\\upfirdn2d.py\", line 32, in _init\n",
      "    _plugin = custom_ops.get_plugin('upfirdn2d_plugin', sources=sources, extra_cuda_cflags=['--use_fast_math'])\n",
      "  File \"C:\\Users\\cszha\\styleGAN\\stylegan2-ada-pytorch\\torch_utils\\custom_ops.py\", line 64, in get_plugin\n",
      "    raise RuntimeError(f'Could not find MSVC/GCC/CLANG installation on this computer. Check _find_compiler_bindir() in \"{__file__}\".')\n",
      "RuntimeError: Could not find MSVC/GCC/CLANG installation on this computer. Check _find_compiler_bindir() in \"C:\\Users\\cszha\\styleGAN\\stylegan2-ada-pytorch\\torch_utils\\custom_ops.py\".\n",
      "\n",
      "  warnings.warn('Failed to build CUDA kernels for upfirdn2d. Falling back to slow reference implementation. Details:\\n\\n' + traceback.format_exc())\n"
     ]
    },
    {
     "name": "stdout",
     "output_type": "stream",
     "text": [
      "Failed!\n",
      "Setting up PyTorch plugin \"upfirdn2d_plugin\"... Failed!\n",
      "Setting up PyTorch plugin \"upfirdn2d_plugin\"... Failed!\n"
     ]
    },
    {
     "name": "stderr",
     "output_type": "stream",
     "text": [
      "C:\\Users\\cszha\\styleGAN\\stylegan2-ada-pytorch\\torch_utils\\ops\\upfirdn2d.py:34: UserWarning: Failed to build CUDA kernels for upfirdn2d. Falling back to slow reference implementation. Details:\n",
      "\n",
      "Traceback (most recent call last):\n",
      "  File \"C:\\Users\\cszha\\styleGAN\\stylegan2-ada-pytorch\\torch_utils\\ops\\upfirdn2d.py\", line 32, in _init\n",
      "    _plugin = custom_ops.get_plugin('upfirdn2d_plugin', sources=sources, extra_cuda_cflags=['--use_fast_math'])\n",
      "  File \"C:\\Users\\cszha\\styleGAN\\stylegan2-ada-pytorch\\torch_utils\\custom_ops.py\", line 64, in get_plugin\n",
      "    raise RuntimeError(f'Could not find MSVC/GCC/CLANG installation on this computer. Check _find_compiler_bindir() in \"{__file__}\".')\n",
      "RuntimeError: Could not find MSVC/GCC/CLANG installation on this computer. Check _find_compiler_bindir() in \"C:\\Users\\cszha\\styleGAN\\stylegan2-ada-pytorch\\torch_utils\\custom_ops.py\".\n",
      "\n",
      "  warnings.warn('Failed to build CUDA kernels for upfirdn2d. Falling back to slow reference implementation. Details:\\n\\n' + traceback.format_exc())\n",
      "C:\\Users\\cszha\\styleGAN\\stylegan2-ada-pytorch\\torch_utils\\ops\\upfirdn2d.py:34: UserWarning: Failed to build CUDA kernels for upfirdn2d. Falling back to slow reference implementation. Details:\n",
      "\n",
      "Traceback (most recent call last):\n",
      "  File \"C:\\Users\\cszha\\styleGAN\\stylegan2-ada-pytorch\\torch_utils\\ops\\upfirdn2d.py\", line 32, in _init\n",
      "    _plugin = custom_ops.get_plugin('upfirdn2d_plugin', sources=sources, extra_cuda_cflags=['--use_fast_math'])\n",
      "  File \"C:\\Users\\cszha\\styleGAN\\stylegan2-ada-pytorch\\torch_utils\\custom_ops.py\", line 64, in get_plugin\n",
      "    raise RuntimeError(f'Could not find MSVC/GCC/CLANG installation on this computer. Check _find_compiler_bindir() in \"{__file__}\".')\n",
      "RuntimeError: Could not find MSVC/GCC/CLANG installation on this computer. Check _find_compiler_bindir() in \"C:\\Users\\cszha\\styleGAN\\stylegan2-ada-pytorch\\torch_utils\\custom_ops.py\".\n",
      "\n",
      "  warnings.warn('Failed to build CUDA kernels for upfirdn2d. Falling back to slow reference implementation. Details:\\n\\n' + traceback.format_exc())\n"
     ]
    },
    {
     "name": "stdout",
     "output_type": "stream",
     "text": [
      "Generating image for seed 7653 (3/10) ...\n",
      "Setting up PyTorch plugin \"upfirdn2d_plugin\"... Failed!\n",
      "Setting up PyTorch plugin \"upfirdn2d_plugin\"... "
     ]
    },
    {
     "name": "stderr",
     "output_type": "stream",
     "text": [
      "C:\\Users\\cszha\\styleGAN\\stylegan2-ada-pytorch\\torch_utils\\ops\\upfirdn2d.py:34: UserWarning: Failed to build CUDA kernels for upfirdn2d. Falling back to slow reference implementation. Details:\n",
      "\n",
      "Traceback (most recent call last):\n",
      "  File \"C:\\Users\\cszha\\styleGAN\\stylegan2-ada-pytorch\\torch_utils\\ops\\upfirdn2d.py\", line 32, in _init\n",
      "    _plugin = custom_ops.get_plugin('upfirdn2d_plugin', sources=sources, extra_cuda_cflags=['--use_fast_math'])\n",
      "  File \"C:\\Users\\cszha\\styleGAN\\stylegan2-ada-pytorch\\torch_utils\\custom_ops.py\", line 64, in get_plugin\n",
      "    raise RuntimeError(f'Could not find MSVC/GCC/CLANG installation on this computer. Check _find_compiler_bindir() in \"{__file__}\".')\n",
      "RuntimeError: Could not find MSVC/GCC/CLANG installation on this computer. Check _find_compiler_bindir() in \"C:\\Users\\cszha\\styleGAN\\stylegan2-ada-pytorch\\torch_utils\\custom_ops.py\".\n",
      "\n",
      "  warnings.warn('Failed to build CUDA kernels for upfirdn2d. Falling back to slow reference implementation. Details:\\n\\n' + traceback.format_exc())\n",
      "C:\\Users\\cszha\\styleGAN\\stylegan2-ada-pytorch\\torch_utils\\ops\\upfirdn2d.py:34: UserWarning: Failed to build CUDA kernels for upfirdn2d. Falling back to slow reference implementation. Details:\n",
      "\n",
      "Traceback (most recent call last):\n",
      "  File \"C:\\Users\\cszha\\styleGAN\\stylegan2-ada-pytorch\\torch_utils\\ops\\upfirdn2d.py\", line 32, in _init\n",
      "    _plugin = custom_ops.get_plugin('upfirdn2d_plugin', sources=sources, extra_cuda_cflags=['--use_fast_math'])\n",
      "  File \"C:\\Users\\cszha\\styleGAN\\stylegan2-ada-pytorch\\torch_utils\\custom_ops.py\", line 64, in get_plugin\n",
      "    raise RuntimeError(f'Could not find MSVC/GCC/CLANG installation on this computer. Check _find_compiler_bindir() in \"{__file__}\".')\n",
      "RuntimeError: Could not find MSVC/GCC/CLANG installation on this computer. Check _find_compiler_bindir() in \"C:\\Users\\cszha\\styleGAN\\stylegan2-ada-pytorch\\torch_utils\\custom_ops.py\".\n",
      "\n",
      "  warnings.warn('Failed to build CUDA kernels for upfirdn2d. Falling back to slow reference implementation. Details:\\n\\n' + traceback.format_exc())\n"
     ]
    },
    {
     "name": "stdout",
     "output_type": "stream",
     "text": [
      "Failed!\n",
      "Setting up PyTorch plugin \"upfirdn2d_plugin\"... Failed!\n",
      "Setting up PyTorch plugin \"upfirdn2d_plugin\"... "
     ]
    },
    {
     "name": "stderr",
     "output_type": "stream",
     "text": [
      "C:\\Users\\cszha\\styleGAN\\stylegan2-ada-pytorch\\torch_utils\\ops\\upfirdn2d.py:34: UserWarning: Failed to build CUDA kernels for upfirdn2d. Falling back to slow reference implementation. Details:\n",
      "\n",
      "Traceback (most recent call last):\n",
      "  File \"C:\\Users\\cszha\\styleGAN\\stylegan2-ada-pytorch\\torch_utils\\ops\\upfirdn2d.py\", line 32, in _init\n",
      "    _plugin = custom_ops.get_plugin('upfirdn2d_plugin', sources=sources, extra_cuda_cflags=['--use_fast_math'])\n",
      "  File \"C:\\Users\\cszha\\styleGAN\\stylegan2-ada-pytorch\\torch_utils\\custom_ops.py\", line 64, in get_plugin\n",
      "    raise RuntimeError(f'Could not find MSVC/GCC/CLANG installation on this computer. Check _find_compiler_bindir() in \"{__file__}\".')\n",
      "RuntimeError: Could not find MSVC/GCC/CLANG installation on this computer. Check _find_compiler_bindir() in \"C:\\Users\\cszha\\styleGAN\\stylegan2-ada-pytorch\\torch_utils\\custom_ops.py\".\n",
      "\n",
      "  warnings.warn('Failed to build CUDA kernels for upfirdn2d. Falling back to slow reference implementation. Details:\\n\\n' + traceback.format_exc())\n",
      "C:\\Users\\cszha\\styleGAN\\stylegan2-ada-pytorch\\torch_utils\\ops\\upfirdn2d.py:34: UserWarning: Failed to build CUDA kernels for upfirdn2d. Falling back to slow reference implementation. Details:\n",
      "\n",
      "Traceback (most recent call last):\n",
      "  File \"C:\\Users\\cszha\\styleGAN\\stylegan2-ada-pytorch\\torch_utils\\ops\\upfirdn2d.py\", line 32, in _init\n",
      "    _plugin = custom_ops.get_plugin('upfirdn2d_plugin', sources=sources, extra_cuda_cflags=['--use_fast_math'])\n",
      "  File \"C:\\Users\\cszha\\styleGAN\\stylegan2-ada-pytorch\\torch_utils\\custom_ops.py\", line 64, in get_plugin\n",
      "    raise RuntimeError(f'Could not find MSVC/GCC/CLANG installation on this computer. Check _find_compiler_bindir() in \"{__file__}\".')\n",
      "RuntimeError: Could not find MSVC/GCC/CLANG installation on this computer. Check _find_compiler_bindir() in \"C:\\Users\\cszha\\styleGAN\\stylegan2-ada-pytorch\\torch_utils\\custom_ops.py\".\n",
      "\n",
      "  warnings.warn('Failed to build CUDA kernels for upfirdn2d. Falling back to slow reference implementation. Details:\\n\\n' + traceback.format_exc())\n"
     ]
    },
    {
     "name": "stdout",
     "output_type": "stream",
     "text": [
      "Failed!\n",
      "Setting up PyTorch plugin \"upfirdn2d_plugin\"... Failed!\n",
      "Setting up PyTorch plugin \"upfirdn2d_plugin\"... Failed!\n"
     ]
    },
    {
     "name": "stderr",
     "output_type": "stream",
     "text": [
      "C:\\Users\\cszha\\styleGAN\\stylegan2-ada-pytorch\\torch_utils\\ops\\upfirdn2d.py:34: UserWarning: Failed to build CUDA kernels for upfirdn2d. Falling back to slow reference implementation. Details:\n",
      "\n",
      "Traceback (most recent call last):\n",
      "  File \"C:\\Users\\cszha\\styleGAN\\stylegan2-ada-pytorch\\torch_utils\\ops\\upfirdn2d.py\", line 32, in _init\n",
      "    _plugin = custom_ops.get_plugin('upfirdn2d_plugin', sources=sources, extra_cuda_cflags=['--use_fast_math'])\n",
      "  File \"C:\\Users\\cszha\\styleGAN\\stylegan2-ada-pytorch\\torch_utils\\custom_ops.py\", line 64, in get_plugin\n",
      "    raise RuntimeError(f'Could not find MSVC/GCC/CLANG installation on this computer. Check _find_compiler_bindir() in \"{__file__}\".')\n",
      "RuntimeError: Could not find MSVC/GCC/CLANG installation on this computer. Check _find_compiler_bindir() in \"C:\\Users\\cszha\\styleGAN\\stylegan2-ada-pytorch\\torch_utils\\custom_ops.py\".\n",
      "\n",
      "  warnings.warn('Failed to build CUDA kernels for upfirdn2d. Falling back to slow reference implementation. Details:\\n\\n' + traceback.format_exc())\n",
      "C:\\Users\\cszha\\styleGAN\\stylegan2-ada-pytorch\\torch_utils\\ops\\upfirdn2d.py:34: UserWarning: Failed to build CUDA kernels for upfirdn2d. Falling back to slow reference implementation. Details:\n",
      "\n",
      "Traceback (most recent call last):\n",
      "  File \"C:\\Users\\cszha\\styleGAN\\stylegan2-ada-pytorch\\torch_utils\\ops\\upfirdn2d.py\", line 32, in _init\n",
      "    _plugin = custom_ops.get_plugin('upfirdn2d_plugin', sources=sources, extra_cuda_cflags=['--use_fast_math'])\n",
      "  File \"C:\\Users\\cszha\\styleGAN\\stylegan2-ada-pytorch\\torch_utils\\custom_ops.py\", line 64, in get_plugin\n",
      "    raise RuntimeError(f'Could not find MSVC/GCC/CLANG installation on this computer. Check _find_compiler_bindir() in \"{__file__}\".')\n",
      "RuntimeError: Could not find MSVC/GCC/CLANG installation on this computer. Check _find_compiler_bindir() in \"C:\\Users\\cszha\\styleGAN\\stylegan2-ada-pytorch\\torch_utils\\custom_ops.py\".\n",
      "\n",
      "  warnings.warn('Failed to build CUDA kernels for upfirdn2d. Falling back to slow reference implementation. Details:\\n\\n' + traceback.format_exc())\n"
     ]
    },
    {
     "name": "stdout",
     "output_type": "stream",
     "text": [
      "Setting up PyTorch plugin \"upfirdn2d_plugin\"... Failed!\n",
      "Setting up PyTorch plugin \"upfirdn2d_plugin\"... Failed!\n"
     ]
    },
    {
     "name": "stderr",
     "output_type": "stream",
     "text": [
      "C:\\Users\\cszha\\styleGAN\\stylegan2-ada-pytorch\\torch_utils\\ops\\upfirdn2d.py:34: UserWarning: Failed to build CUDA kernels for upfirdn2d. Falling back to slow reference implementation. Details:\n",
      "\n",
      "Traceback (most recent call last):\n",
      "  File \"C:\\Users\\cszha\\styleGAN\\stylegan2-ada-pytorch\\torch_utils\\ops\\upfirdn2d.py\", line 32, in _init\n",
      "    _plugin = custom_ops.get_plugin('upfirdn2d_plugin', sources=sources, extra_cuda_cflags=['--use_fast_math'])\n",
      "  File \"C:\\Users\\cszha\\styleGAN\\stylegan2-ada-pytorch\\torch_utils\\custom_ops.py\", line 64, in get_plugin\n",
      "    raise RuntimeError(f'Could not find MSVC/GCC/CLANG installation on this computer. Check _find_compiler_bindir() in \"{__file__}\".')\n",
      "RuntimeError: Could not find MSVC/GCC/CLANG installation on this computer. Check _find_compiler_bindir() in \"C:\\Users\\cszha\\styleGAN\\stylegan2-ada-pytorch\\torch_utils\\custom_ops.py\".\n",
      "\n",
      "  warnings.warn('Failed to build CUDA kernels for upfirdn2d. Falling back to slow reference implementation. Details:\\n\\n' + traceback.format_exc())\n",
      "C:\\Users\\cszha\\styleGAN\\stylegan2-ada-pytorch\\torch_utils\\ops\\upfirdn2d.py:34: UserWarning: Failed to build CUDA kernels for upfirdn2d. Falling back to slow reference implementation. Details:\n",
      "\n",
      "Traceback (most recent call last):\n",
      "  File \"C:\\Users\\cszha\\styleGAN\\stylegan2-ada-pytorch\\torch_utils\\ops\\upfirdn2d.py\", line 32, in _init\n",
      "    _plugin = custom_ops.get_plugin('upfirdn2d_plugin', sources=sources, extra_cuda_cflags=['--use_fast_math'])\n",
      "  File \"C:\\Users\\cszha\\styleGAN\\stylegan2-ada-pytorch\\torch_utils\\custom_ops.py\", line 64, in get_plugin\n",
      "    raise RuntimeError(f'Could not find MSVC/GCC/CLANG installation on this computer. Check _find_compiler_bindir() in \"{__file__}\".')\n",
      "RuntimeError: Could not find MSVC/GCC/CLANG installation on this computer. Check _find_compiler_bindir() in \"C:\\Users\\cszha\\styleGAN\\stylegan2-ada-pytorch\\torch_utils\\custom_ops.py\".\n",
      "\n",
      "  warnings.warn('Failed to build CUDA kernels for upfirdn2d. Falling back to slow reference implementation. Details:\\n\\n' + traceback.format_exc())\n",
      "C:\\Users\\cszha\\styleGAN\\stylegan2-ada-pytorch\\torch_utils\\ops\\upfirdn2d.py:34: UserWarning: Failed to build CUDA kernels for upfirdn2d. Falling back to slow reference implementation. Details:\n",
      "\n",
      "Traceback (most recent call last):\n",
      "  File \"C:\\Users\\cszha\\styleGAN\\stylegan2-ada-pytorch\\torch_utils\\ops\\upfirdn2d.py\", line 32, in _init\n",
      "    _plugin = custom_ops.get_plugin('upfirdn2d_plugin', sources=sources, extra_cuda_cflags=['--use_fast_math'])\n",
      "  File \"C:\\Users\\cszha\\styleGAN\\stylegan2-ada-pytorch\\torch_utils\\custom_ops.py\", line 64, in get_plugin\n",
      "    raise RuntimeError(f'Could not find MSVC/GCC/CLANG installation on this computer. Check _find_compiler_bindir() in \"{__file__}\".')\n",
      "RuntimeError: Could not find MSVC/GCC/CLANG installation on this computer. Check _find_compiler_bindir() in \"C:\\Users\\cszha\\styleGAN\\stylegan2-ada-pytorch\\torch_utils\\custom_ops.py\".\n",
      "\n",
      "  warnings.warn('Failed to build CUDA kernels for upfirdn2d. Falling back to slow reference implementation. Details:\\n\\n' + traceback.format_exc())\n"
     ]
    },
    {
     "name": "stdout",
     "output_type": "stream",
     "text": [
      "Setting up PyTorch plugin \"upfirdn2d_plugin\"... Failed!\n",
      "Setting up PyTorch plugin \"upfirdn2d_plugin\"... Failed!\n",
      "Setting up PyTorch plugin \"upfirdn2d_plugin\"... Failed!\n"
     ]
    },
    {
     "name": "stderr",
     "output_type": "stream",
     "text": [
      "C:\\Users\\cszha\\styleGAN\\stylegan2-ada-pytorch\\torch_utils\\ops\\upfirdn2d.py:34: UserWarning: Failed to build CUDA kernels for upfirdn2d. Falling back to slow reference implementation. Details:\n",
      "\n",
      "Traceback (most recent call last):\n",
      "  File \"C:\\Users\\cszha\\styleGAN\\stylegan2-ada-pytorch\\torch_utils\\ops\\upfirdn2d.py\", line 32, in _init\n",
      "    _plugin = custom_ops.get_plugin('upfirdn2d_plugin', sources=sources, extra_cuda_cflags=['--use_fast_math'])\n",
      "  File \"C:\\Users\\cszha\\styleGAN\\stylegan2-ada-pytorch\\torch_utils\\custom_ops.py\", line 64, in get_plugin\n",
      "    raise RuntimeError(f'Could not find MSVC/GCC/CLANG installation on this computer. Check _find_compiler_bindir() in \"{__file__}\".')\n",
      "RuntimeError: Could not find MSVC/GCC/CLANG installation on this computer. Check _find_compiler_bindir() in \"C:\\Users\\cszha\\styleGAN\\stylegan2-ada-pytorch\\torch_utils\\custom_ops.py\".\n",
      "\n",
      "  warnings.warn('Failed to build CUDA kernels for upfirdn2d. Falling back to slow reference implementation. Details:\\n\\n' + traceback.format_exc())\n",
      "C:\\Users\\cszha\\styleGAN\\stylegan2-ada-pytorch\\torch_utils\\ops\\upfirdn2d.py:34: UserWarning: Failed to build CUDA kernels for upfirdn2d. Falling back to slow reference implementation. Details:\n",
      "\n",
      "Traceback (most recent call last):\n",
      "  File \"C:\\Users\\cszha\\styleGAN\\stylegan2-ada-pytorch\\torch_utils\\ops\\upfirdn2d.py\", line 32, in _init\n",
      "    _plugin = custom_ops.get_plugin('upfirdn2d_plugin', sources=sources, extra_cuda_cflags=['--use_fast_math'])\n",
      "  File \"C:\\Users\\cszha\\styleGAN\\stylegan2-ada-pytorch\\torch_utils\\custom_ops.py\", line 64, in get_plugin\n",
      "    raise RuntimeError(f'Could not find MSVC/GCC/CLANG installation on this computer. Check _find_compiler_bindir() in \"{__file__}\".')\n",
      "RuntimeError: Could not find MSVC/GCC/CLANG installation on this computer. Check _find_compiler_bindir() in \"C:\\Users\\cszha\\styleGAN\\stylegan2-ada-pytorch\\torch_utils\\custom_ops.py\".\n",
      "\n",
      "  warnings.warn('Failed to build CUDA kernels for upfirdn2d. Falling back to slow reference implementation. Details:\\n\\n' + traceback.format_exc())\n",
      "C:\\Users\\cszha\\styleGAN\\stylegan2-ada-pytorch\\torch_utils\\ops\\upfirdn2d.py:34: UserWarning: Failed to build CUDA kernels for upfirdn2d. Falling back to slow reference implementation. Details:\n",
      "\n",
      "Traceback (most recent call last):\n",
      "  File \"C:\\Users\\cszha\\styleGAN\\stylegan2-ada-pytorch\\torch_utils\\ops\\upfirdn2d.py\", line 32, in _init\n",
      "    _plugin = custom_ops.get_plugin('upfirdn2d_plugin', sources=sources, extra_cuda_cflags=['--use_fast_math'])\n",
      "  File \"C:\\Users\\cszha\\styleGAN\\stylegan2-ada-pytorch\\torch_utils\\custom_ops.py\", line 64, in get_plugin\n",
      "    raise RuntimeError(f'Could not find MSVC/GCC/CLANG installation on this computer. Check _find_compiler_bindir() in \"{__file__}\".')\n",
      "RuntimeError: Could not find MSVC/GCC/CLANG installation on this computer. Check _find_compiler_bindir() in \"C:\\Users\\cszha\\styleGAN\\stylegan2-ada-pytorch\\torch_utils\\custom_ops.py\".\n",
      "\n",
      "  warnings.warn('Failed to build CUDA kernels for upfirdn2d. Falling back to slow reference implementation. Details:\\n\\n' + traceback.format_exc())\n"
     ]
    },
    {
     "name": "stdout",
     "output_type": "stream",
     "text": [
      "Setting up PyTorch plugin \"upfirdn2d_plugin\"... Failed!\n",
      "Generating image for seed 21709 (4/10) ...\n",
      "Setting up PyTorch plugin \"upfirdn2d_plugin\"... Failed!\n",
      "Setting up PyTorch plugin \"upfirdn2d_plugin\"... "
     ]
    },
    {
     "name": "stderr",
     "output_type": "stream",
     "text": [
      "C:\\Users\\cszha\\styleGAN\\stylegan2-ada-pytorch\\torch_utils\\ops\\upfirdn2d.py:34: UserWarning: Failed to build CUDA kernels for upfirdn2d. Falling back to slow reference implementation. Details:\n",
      "\n",
      "Traceback (most recent call last):\n",
      "  File \"C:\\Users\\cszha\\styleGAN\\stylegan2-ada-pytorch\\torch_utils\\ops\\upfirdn2d.py\", line 32, in _init\n",
      "    _plugin = custom_ops.get_plugin('upfirdn2d_plugin', sources=sources, extra_cuda_cflags=['--use_fast_math'])\n",
      "  File \"C:\\Users\\cszha\\styleGAN\\stylegan2-ada-pytorch\\torch_utils\\custom_ops.py\", line 64, in get_plugin\n",
      "    raise RuntimeError(f'Could not find MSVC/GCC/CLANG installation on this computer. Check _find_compiler_bindir() in \"{__file__}\".')\n",
      "RuntimeError: Could not find MSVC/GCC/CLANG installation on this computer. Check _find_compiler_bindir() in \"C:\\Users\\cszha\\styleGAN\\stylegan2-ada-pytorch\\torch_utils\\custom_ops.py\".\n",
      "\n",
      "  warnings.warn('Failed to build CUDA kernels for upfirdn2d. Falling back to slow reference implementation. Details:\\n\\n' + traceback.format_exc())\n",
      "C:\\Users\\cszha\\styleGAN\\stylegan2-ada-pytorch\\torch_utils\\ops\\upfirdn2d.py:34: UserWarning: Failed to build CUDA kernels for upfirdn2d. Falling back to slow reference implementation. Details:\n",
      "\n",
      "Traceback (most recent call last):\n",
      "  File \"C:\\Users\\cszha\\styleGAN\\stylegan2-ada-pytorch\\torch_utils\\ops\\upfirdn2d.py\", line 32, in _init\n",
      "    _plugin = custom_ops.get_plugin('upfirdn2d_plugin', sources=sources, extra_cuda_cflags=['--use_fast_math'])\n",
      "  File \"C:\\Users\\cszha\\styleGAN\\stylegan2-ada-pytorch\\torch_utils\\custom_ops.py\", line 64, in get_plugin\n",
      "    raise RuntimeError(f'Could not find MSVC/GCC/CLANG installation on this computer. Check _find_compiler_bindir() in \"{__file__}\".')\n",
      "RuntimeError: Could not find MSVC/GCC/CLANG installation on this computer. Check _find_compiler_bindir() in \"C:\\Users\\cszha\\styleGAN\\stylegan2-ada-pytorch\\torch_utils\\custom_ops.py\".\n",
      "\n",
      "  warnings.warn('Failed to build CUDA kernels for upfirdn2d. Falling back to slow reference implementation. Details:\\n\\n' + traceback.format_exc())\n"
     ]
    },
    {
     "name": "stdout",
     "output_type": "stream",
     "text": [
      "Failed!\n",
      "Setting up PyTorch plugin \"upfirdn2d_plugin\"... Failed!\n",
      "Setting up PyTorch plugin \"upfirdn2d_plugin\"... "
     ]
    },
    {
     "name": "stderr",
     "output_type": "stream",
     "text": [
      "C:\\Users\\cszha\\styleGAN\\stylegan2-ada-pytorch\\torch_utils\\ops\\upfirdn2d.py:34: UserWarning: Failed to build CUDA kernels for upfirdn2d. Falling back to slow reference implementation. Details:\n",
      "\n",
      "Traceback (most recent call last):\n",
      "  File \"C:\\Users\\cszha\\styleGAN\\stylegan2-ada-pytorch\\torch_utils\\ops\\upfirdn2d.py\", line 32, in _init\n",
      "    _plugin = custom_ops.get_plugin('upfirdn2d_plugin', sources=sources, extra_cuda_cflags=['--use_fast_math'])\n",
      "  File \"C:\\Users\\cszha\\styleGAN\\stylegan2-ada-pytorch\\torch_utils\\custom_ops.py\", line 64, in get_plugin\n",
      "    raise RuntimeError(f'Could not find MSVC/GCC/CLANG installation on this computer. Check _find_compiler_bindir() in \"{__file__}\".')\n",
      "RuntimeError: Could not find MSVC/GCC/CLANG installation on this computer. Check _find_compiler_bindir() in \"C:\\Users\\cszha\\styleGAN\\stylegan2-ada-pytorch\\torch_utils\\custom_ops.py\".\n",
      "\n",
      "  warnings.warn('Failed to build CUDA kernels for upfirdn2d. Falling back to slow reference implementation. Details:\\n\\n' + traceback.format_exc())\n",
      "C:\\Users\\cszha\\styleGAN\\stylegan2-ada-pytorch\\torch_utils\\ops\\upfirdn2d.py:34: UserWarning: Failed to build CUDA kernels for upfirdn2d. Falling back to slow reference implementation. Details:\n",
      "\n",
      "Traceback (most recent call last):\n",
      "  File \"C:\\Users\\cszha\\styleGAN\\stylegan2-ada-pytorch\\torch_utils\\ops\\upfirdn2d.py\", line 32, in _init\n",
      "    _plugin = custom_ops.get_plugin('upfirdn2d_plugin', sources=sources, extra_cuda_cflags=['--use_fast_math'])\n",
      "  File \"C:\\Users\\cszha\\styleGAN\\stylegan2-ada-pytorch\\torch_utils\\custom_ops.py\", line 64, in get_plugin\n",
      "    raise RuntimeError(f'Could not find MSVC/GCC/CLANG installation on this computer. Check _find_compiler_bindir() in \"{__file__}\".')\n",
      "RuntimeError: Could not find MSVC/GCC/CLANG installation on this computer. Check _find_compiler_bindir() in \"C:\\Users\\cszha\\styleGAN\\stylegan2-ada-pytorch\\torch_utils\\custom_ops.py\".\n",
      "\n",
      "  warnings.warn('Failed to build CUDA kernels for upfirdn2d. Falling back to slow reference implementation. Details:\\n\\n' + traceback.format_exc())\n"
     ]
    },
    {
     "name": "stdout",
     "output_type": "stream",
     "text": [
      "Failed!\n",
      "Setting up PyTorch plugin \"upfirdn2d_plugin\"... Failed!\n",
      "Setting up PyTorch plugin \"upfirdn2d_plugin\"... "
     ]
    },
    {
     "name": "stderr",
     "output_type": "stream",
     "text": [
      "C:\\Users\\cszha\\styleGAN\\stylegan2-ada-pytorch\\torch_utils\\ops\\upfirdn2d.py:34: UserWarning: Failed to build CUDA kernels for upfirdn2d. Falling back to slow reference implementation. Details:\n",
      "\n",
      "Traceback (most recent call last):\n",
      "  File \"C:\\Users\\cszha\\styleGAN\\stylegan2-ada-pytorch\\torch_utils\\ops\\upfirdn2d.py\", line 32, in _init\n",
      "    _plugin = custom_ops.get_plugin('upfirdn2d_plugin', sources=sources, extra_cuda_cflags=['--use_fast_math'])\n",
      "  File \"C:\\Users\\cszha\\styleGAN\\stylegan2-ada-pytorch\\torch_utils\\custom_ops.py\", line 64, in get_plugin\n",
      "    raise RuntimeError(f'Could not find MSVC/GCC/CLANG installation on this computer. Check _find_compiler_bindir() in \"{__file__}\".')\n",
      "RuntimeError: Could not find MSVC/GCC/CLANG installation on this computer. Check _find_compiler_bindir() in \"C:\\Users\\cszha\\styleGAN\\stylegan2-ada-pytorch\\torch_utils\\custom_ops.py\".\n",
      "\n",
      "  warnings.warn('Failed to build CUDA kernels for upfirdn2d. Falling back to slow reference implementation. Details:\\n\\n' + traceback.format_exc())\n",
      "C:\\Users\\cszha\\styleGAN\\stylegan2-ada-pytorch\\torch_utils\\ops\\upfirdn2d.py:34: UserWarning: Failed to build CUDA kernels for upfirdn2d. Falling back to slow reference implementation. Details:\n",
      "\n",
      "Traceback (most recent call last):\n",
      "  File \"C:\\Users\\cszha\\styleGAN\\stylegan2-ada-pytorch\\torch_utils\\ops\\upfirdn2d.py\", line 32, in _init\n",
      "    _plugin = custom_ops.get_plugin('upfirdn2d_plugin', sources=sources, extra_cuda_cflags=['--use_fast_math'])\n",
      "  File \"C:\\Users\\cszha\\styleGAN\\stylegan2-ada-pytorch\\torch_utils\\custom_ops.py\", line 64, in get_plugin\n",
      "    raise RuntimeError(f'Could not find MSVC/GCC/CLANG installation on this computer. Check _find_compiler_bindir() in \"{__file__}\".')\n",
      "RuntimeError: Could not find MSVC/GCC/CLANG installation on this computer. Check _find_compiler_bindir() in \"C:\\Users\\cszha\\styleGAN\\stylegan2-ada-pytorch\\torch_utils\\custom_ops.py\".\n",
      "\n",
      "  warnings.warn('Failed to build CUDA kernels for upfirdn2d. Falling back to slow reference implementation. Details:\\n\\n' + traceback.format_exc())\n"
     ]
    },
    {
     "name": "stdout",
     "output_type": "stream",
     "text": [
      "Failed!\n",
      "Setting up PyTorch plugin \"upfirdn2d_plugin\"... Failed!\n",
      "Setting up PyTorch plugin \"upfirdn2d_plugin\"... "
     ]
    },
    {
     "name": "stderr",
     "output_type": "stream",
     "text": [
      "C:\\Users\\cszha\\styleGAN\\stylegan2-ada-pytorch\\torch_utils\\ops\\upfirdn2d.py:34: UserWarning: Failed to build CUDA kernels for upfirdn2d. Falling back to slow reference implementation. Details:\n",
      "\n",
      "Traceback (most recent call last):\n",
      "  File \"C:\\Users\\cszha\\styleGAN\\stylegan2-ada-pytorch\\torch_utils\\ops\\upfirdn2d.py\", line 32, in _init\n",
      "    _plugin = custom_ops.get_plugin('upfirdn2d_plugin', sources=sources, extra_cuda_cflags=['--use_fast_math'])\n",
      "  File \"C:\\Users\\cszha\\styleGAN\\stylegan2-ada-pytorch\\torch_utils\\custom_ops.py\", line 64, in get_plugin\n",
      "    raise RuntimeError(f'Could not find MSVC/GCC/CLANG installation on this computer. Check _find_compiler_bindir() in \"{__file__}\".')\n",
      "RuntimeError: Could not find MSVC/GCC/CLANG installation on this computer. Check _find_compiler_bindir() in \"C:\\Users\\cszha\\styleGAN\\stylegan2-ada-pytorch\\torch_utils\\custom_ops.py\".\n",
      "\n",
      "  warnings.warn('Failed to build CUDA kernels for upfirdn2d. Falling back to slow reference implementation. Details:\\n\\n' + traceback.format_exc())\n",
      "C:\\Users\\cszha\\styleGAN\\stylegan2-ada-pytorch\\torch_utils\\ops\\upfirdn2d.py:34: UserWarning: Failed to build CUDA kernels for upfirdn2d. Falling back to slow reference implementation. Details:\n",
      "\n",
      "Traceback (most recent call last):\n",
      "  File \"C:\\Users\\cszha\\styleGAN\\stylegan2-ada-pytorch\\torch_utils\\ops\\upfirdn2d.py\", line 32, in _init\n",
      "    _plugin = custom_ops.get_plugin('upfirdn2d_plugin', sources=sources, extra_cuda_cflags=['--use_fast_math'])\n",
      "  File \"C:\\Users\\cszha\\styleGAN\\stylegan2-ada-pytorch\\torch_utils\\custom_ops.py\", line 64, in get_plugin\n",
      "    raise RuntimeError(f'Could not find MSVC/GCC/CLANG installation on this computer. Check _find_compiler_bindir() in \"{__file__}\".')\n",
      "RuntimeError: Could not find MSVC/GCC/CLANG installation on this computer. Check _find_compiler_bindir() in \"C:\\Users\\cszha\\styleGAN\\stylegan2-ada-pytorch\\torch_utils\\custom_ops.py\".\n",
      "\n",
      "  warnings.warn('Failed to build CUDA kernels for upfirdn2d. Falling back to slow reference implementation. Details:\\n\\n' + traceback.format_exc())\n"
     ]
    },
    {
     "name": "stdout",
     "output_type": "stream",
     "text": [
      "Failed!\n",
      "Setting up PyTorch plugin \"upfirdn2d_plugin\"... Failed!\n",
      "Setting up PyTorch plugin \"upfirdn2d_plugin\"... Failed!\n"
     ]
    },
    {
     "name": "stderr",
     "output_type": "stream",
     "text": [
      "C:\\Users\\cszha\\styleGAN\\stylegan2-ada-pytorch\\torch_utils\\ops\\upfirdn2d.py:34: UserWarning: Failed to build CUDA kernels for upfirdn2d. Falling back to slow reference implementation. Details:\n",
      "\n",
      "Traceback (most recent call last):\n",
      "  File \"C:\\Users\\cszha\\styleGAN\\stylegan2-ada-pytorch\\torch_utils\\ops\\upfirdn2d.py\", line 32, in _init\n",
      "    _plugin = custom_ops.get_plugin('upfirdn2d_plugin', sources=sources, extra_cuda_cflags=['--use_fast_math'])\n",
      "  File \"C:\\Users\\cszha\\styleGAN\\stylegan2-ada-pytorch\\torch_utils\\custom_ops.py\", line 64, in get_plugin\n",
      "    raise RuntimeError(f'Could not find MSVC/GCC/CLANG installation on this computer. Check _find_compiler_bindir() in \"{__file__}\".')\n",
      "RuntimeError: Could not find MSVC/GCC/CLANG installation on this computer. Check _find_compiler_bindir() in \"C:\\Users\\cszha\\styleGAN\\stylegan2-ada-pytorch\\torch_utils\\custom_ops.py\".\n",
      "\n",
      "  warnings.warn('Failed to build CUDA kernels for upfirdn2d. Falling back to slow reference implementation. Details:\\n\\n' + traceback.format_exc())\n",
      "C:\\Users\\cszha\\styleGAN\\stylegan2-ada-pytorch\\torch_utils\\ops\\upfirdn2d.py:34: UserWarning: Failed to build CUDA kernels for upfirdn2d. Falling back to slow reference implementation. Details:\n",
      "\n",
      "Traceback (most recent call last):\n",
      "  File \"C:\\Users\\cszha\\styleGAN\\stylegan2-ada-pytorch\\torch_utils\\ops\\upfirdn2d.py\", line 32, in _init\n",
      "    _plugin = custom_ops.get_plugin('upfirdn2d_plugin', sources=sources, extra_cuda_cflags=['--use_fast_math'])\n",
      "  File \"C:\\Users\\cszha\\styleGAN\\stylegan2-ada-pytorch\\torch_utils\\custom_ops.py\", line 64, in get_plugin\n",
      "    raise RuntimeError(f'Could not find MSVC/GCC/CLANG installation on this computer. Check _find_compiler_bindir() in \"{__file__}\".')\n",
      "RuntimeError: Could not find MSVC/GCC/CLANG installation on this computer. Check _find_compiler_bindir() in \"C:\\Users\\cszha\\styleGAN\\stylegan2-ada-pytorch\\torch_utils\\custom_ops.py\".\n",
      "\n",
      "  warnings.warn('Failed to build CUDA kernels for upfirdn2d. Falling back to slow reference implementation. Details:\\n\\n' + traceback.format_exc())\n"
     ]
    },
    {
     "name": "stdout",
     "output_type": "stream",
     "text": [
      "Setting up PyTorch plugin \"upfirdn2d_plugin\"... Failed!\n",
      "Setting up PyTorch plugin \"upfirdn2d_plugin\"... Failed!\n"
     ]
    },
    {
     "name": "stderr",
     "output_type": "stream",
     "text": [
      "C:\\Users\\cszha\\styleGAN\\stylegan2-ada-pytorch\\torch_utils\\ops\\upfirdn2d.py:34: UserWarning: Failed to build CUDA kernels for upfirdn2d. Falling back to slow reference implementation. Details:\n",
      "\n",
      "Traceback (most recent call last):\n",
      "  File \"C:\\Users\\cszha\\styleGAN\\stylegan2-ada-pytorch\\torch_utils\\ops\\upfirdn2d.py\", line 32, in _init\n",
      "    _plugin = custom_ops.get_plugin('upfirdn2d_plugin', sources=sources, extra_cuda_cflags=['--use_fast_math'])\n",
      "  File \"C:\\Users\\cszha\\styleGAN\\stylegan2-ada-pytorch\\torch_utils\\custom_ops.py\", line 64, in get_plugin\n",
      "    raise RuntimeError(f'Could not find MSVC/GCC/CLANG installation on this computer. Check _find_compiler_bindir() in \"{__file__}\".')\n",
      "RuntimeError: Could not find MSVC/GCC/CLANG installation on this computer. Check _find_compiler_bindir() in \"C:\\Users\\cszha\\styleGAN\\stylegan2-ada-pytorch\\torch_utils\\custom_ops.py\".\n",
      "\n",
      "  warnings.warn('Failed to build CUDA kernels for upfirdn2d. Falling back to slow reference implementation. Details:\\n\\n' + traceback.format_exc())\n",
      "C:\\Users\\cszha\\styleGAN\\stylegan2-ada-pytorch\\torch_utils\\ops\\upfirdn2d.py:34: UserWarning: Failed to build CUDA kernels for upfirdn2d. Falling back to slow reference implementation. Details:\n",
      "\n",
      "Traceback (most recent call last):\n",
      "  File \"C:\\Users\\cszha\\styleGAN\\stylegan2-ada-pytorch\\torch_utils\\ops\\upfirdn2d.py\", line 32, in _init\n",
      "    _plugin = custom_ops.get_plugin('upfirdn2d_plugin', sources=sources, extra_cuda_cflags=['--use_fast_math'])\n",
      "  File \"C:\\Users\\cszha\\styleGAN\\stylegan2-ada-pytorch\\torch_utils\\custom_ops.py\", line 64, in get_plugin\n",
      "    raise RuntimeError(f'Could not find MSVC/GCC/CLANG installation on this computer. Check _find_compiler_bindir() in \"{__file__}\".')\n",
      "RuntimeError: Could not find MSVC/GCC/CLANG installation on this computer. Check _find_compiler_bindir() in \"C:\\Users\\cszha\\styleGAN\\stylegan2-ada-pytorch\\torch_utils\\custom_ops.py\".\n",
      "\n",
      "  warnings.warn('Failed to build CUDA kernels for upfirdn2d. Falling back to slow reference implementation. Details:\\n\\n' + traceback.format_exc())\n"
     ]
    },
    {
     "name": "stdout",
     "output_type": "stream",
     "text": [
      "Generating image for seed 30358 (5/10) ...\n",
      "Setting up PyTorch plugin \"upfirdn2d_plugin\"... Failed!\n",
      "Setting up PyTorch plugin \"upfirdn2d_plugin\"... "
     ]
    },
    {
     "name": "stderr",
     "output_type": "stream",
     "text": [
      "C:\\Users\\cszha\\styleGAN\\stylegan2-ada-pytorch\\torch_utils\\ops\\upfirdn2d.py:34: UserWarning: Failed to build CUDA kernels for upfirdn2d. Falling back to slow reference implementation. Details:\n",
      "\n",
      "Traceback (most recent call last):\n",
      "  File \"C:\\Users\\cszha\\styleGAN\\stylegan2-ada-pytorch\\torch_utils\\ops\\upfirdn2d.py\", line 32, in _init\n",
      "    _plugin = custom_ops.get_plugin('upfirdn2d_plugin', sources=sources, extra_cuda_cflags=['--use_fast_math'])\n",
      "  File \"C:\\Users\\cszha\\styleGAN\\stylegan2-ada-pytorch\\torch_utils\\custom_ops.py\", line 64, in get_plugin\n",
      "    raise RuntimeError(f'Could not find MSVC/GCC/CLANG installation on this computer. Check _find_compiler_bindir() in \"{__file__}\".')\n",
      "RuntimeError: Could not find MSVC/GCC/CLANG installation on this computer. Check _find_compiler_bindir() in \"C:\\Users\\cszha\\styleGAN\\stylegan2-ada-pytorch\\torch_utils\\custom_ops.py\".\n",
      "\n",
      "  warnings.warn('Failed to build CUDA kernels for upfirdn2d. Falling back to slow reference implementation. Details:\\n\\n' + traceback.format_exc())\n",
      "C:\\Users\\cszha\\styleGAN\\stylegan2-ada-pytorch\\torch_utils\\ops\\upfirdn2d.py:34: UserWarning: Failed to build CUDA kernels for upfirdn2d. Falling back to slow reference implementation. Details:\n",
      "\n",
      "Traceback (most recent call last):\n",
      "  File \"C:\\Users\\cszha\\styleGAN\\stylegan2-ada-pytorch\\torch_utils\\ops\\upfirdn2d.py\", line 32, in _init\n",
      "    _plugin = custom_ops.get_plugin('upfirdn2d_plugin', sources=sources, extra_cuda_cflags=['--use_fast_math'])\n",
      "  File \"C:\\Users\\cszha\\styleGAN\\stylegan2-ada-pytorch\\torch_utils\\custom_ops.py\", line 64, in get_plugin\n",
      "    raise RuntimeError(f'Could not find MSVC/GCC/CLANG installation on this computer. Check _find_compiler_bindir() in \"{__file__}\".')\n",
      "RuntimeError: Could not find MSVC/GCC/CLANG installation on this computer. Check _find_compiler_bindir() in \"C:\\Users\\cszha\\styleGAN\\stylegan2-ada-pytorch\\torch_utils\\custom_ops.py\".\n",
      "\n",
      "  warnings.warn('Failed to build CUDA kernels for upfirdn2d. Falling back to slow reference implementation. Details:\\n\\n' + traceback.format_exc())\n"
     ]
    },
    {
     "name": "stdout",
     "output_type": "stream",
     "text": [
      "Failed!\n",
      "Setting up PyTorch plugin \"upfirdn2d_plugin\"... Failed!\n",
      "Setting up PyTorch plugin \"upfirdn2d_plugin\"... "
     ]
    },
    {
     "name": "stderr",
     "output_type": "stream",
     "text": [
      "C:\\Users\\cszha\\styleGAN\\stylegan2-ada-pytorch\\torch_utils\\ops\\upfirdn2d.py:34: UserWarning: Failed to build CUDA kernels for upfirdn2d. Falling back to slow reference implementation. Details:\n",
      "\n",
      "Traceback (most recent call last):\n",
      "  File \"C:\\Users\\cszha\\styleGAN\\stylegan2-ada-pytorch\\torch_utils\\ops\\upfirdn2d.py\", line 32, in _init\n",
      "    _plugin = custom_ops.get_plugin('upfirdn2d_plugin', sources=sources, extra_cuda_cflags=['--use_fast_math'])\n",
      "  File \"C:\\Users\\cszha\\styleGAN\\stylegan2-ada-pytorch\\torch_utils\\custom_ops.py\", line 64, in get_plugin\n",
      "    raise RuntimeError(f'Could not find MSVC/GCC/CLANG installation on this computer. Check _find_compiler_bindir() in \"{__file__}\".')\n",
      "RuntimeError: Could not find MSVC/GCC/CLANG installation on this computer. Check _find_compiler_bindir() in \"C:\\Users\\cszha\\styleGAN\\stylegan2-ada-pytorch\\torch_utils\\custom_ops.py\".\n",
      "\n",
      "  warnings.warn('Failed to build CUDA kernels for upfirdn2d. Falling back to slow reference implementation. Details:\\n\\n' + traceback.format_exc())\n",
      "C:\\Users\\cszha\\styleGAN\\stylegan2-ada-pytorch\\torch_utils\\ops\\upfirdn2d.py:34: UserWarning: Failed to build CUDA kernels for upfirdn2d. Falling back to slow reference implementation. Details:\n",
      "\n",
      "Traceback (most recent call last):\n",
      "  File \"C:\\Users\\cszha\\styleGAN\\stylegan2-ada-pytorch\\torch_utils\\ops\\upfirdn2d.py\", line 32, in _init\n",
      "    _plugin = custom_ops.get_plugin('upfirdn2d_plugin', sources=sources, extra_cuda_cflags=['--use_fast_math'])\n",
      "  File \"C:\\Users\\cszha\\styleGAN\\stylegan2-ada-pytorch\\torch_utils\\custom_ops.py\", line 64, in get_plugin\n",
      "    raise RuntimeError(f'Could not find MSVC/GCC/CLANG installation on this computer. Check _find_compiler_bindir() in \"{__file__}\".')\n",
      "RuntimeError: Could not find MSVC/GCC/CLANG installation on this computer. Check _find_compiler_bindir() in \"C:\\Users\\cszha\\styleGAN\\stylegan2-ada-pytorch\\torch_utils\\custom_ops.py\".\n",
      "\n",
      "  warnings.warn('Failed to build CUDA kernels for upfirdn2d. Falling back to slow reference implementation. Details:\\n\\n' + traceback.format_exc())\n"
     ]
    },
    {
     "name": "stdout",
     "output_type": "stream",
     "text": [
      "Failed!\n",
      "Setting up PyTorch plugin \"upfirdn2d_plugin\"... Failed!\n",
      "Setting up PyTorch plugin \"upfirdn2d_plugin\"... "
     ]
    },
    {
     "name": "stderr",
     "output_type": "stream",
     "text": [
      "C:\\Users\\cszha\\styleGAN\\stylegan2-ada-pytorch\\torch_utils\\ops\\upfirdn2d.py:34: UserWarning: Failed to build CUDA kernels for upfirdn2d. Falling back to slow reference implementation. Details:\n",
      "\n",
      "Traceback (most recent call last):\n",
      "  File \"C:\\Users\\cszha\\styleGAN\\stylegan2-ada-pytorch\\torch_utils\\ops\\upfirdn2d.py\", line 32, in _init\n",
      "    _plugin = custom_ops.get_plugin('upfirdn2d_plugin', sources=sources, extra_cuda_cflags=['--use_fast_math'])\n",
      "  File \"C:\\Users\\cszha\\styleGAN\\stylegan2-ada-pytorch\\torch_utils\\custom_ops.py\", line 64, in get_plugin\n",
      "    raise RuntimeError(f'Could not find MSVC/GCC/CLANG installation on this computer. Check _find_compiler_bindir() in \"{__file__}\".')\n",
      "RuntimeError: Could not find MSVC/GCC/CLANG installation on this computer. Check _find_compiler_bindir() in \"C:\\Users\\cszha\\styleGAN\\stylegan2-ada-pytorch\\torch_utils\\custom_ops.py\".\n",
      "\n",
      "  warnings.warn('Failed to build CUDA kernels for upfirdn2d. Falling back to slow reference implementation. Details:\\n\\n' + traceback.format_exc())\n",
      "C:\\Users\\cszha\\styleGAN\\stylegan2-ada-pytorch\\torch_utils\\ops\\upfirdn2d.py:34: UserWarning: Failed to build CUDA kernels for upfirdn2d. Falling back to slow reference implementation. Details:\n",
      "\n",
      "Traceback (most recent call last):\n",
      "  File \"C:\\Users\\cszha\\styleGAN\\stylegan2-ada-pytorch\\torch_utils\\ops\\upfirdn2d.py\", line 32, in _init\n",
      "    _plugin = custom_ops.get_plugin('upfirdn2d_plugin', sources=sources, extra_cuda_cflags=['--use_fast_math'])\n",
      "  File \"C:\\Users\\cszha\\styleGAN\\stylegan2-ada-pytorch\\torch_utils\\custom_ops.py\", line 64, in get_plugin\n",
      "    raise RuntimeError(f'Could not find MSVC/GCC/CLANG installation on this computer. Check _find_compiler_bindir() in \"{__file__}\".')\n",
      "RuntimeError: Could not find MSVC/GCC/CLANG installation on this computer. Check _find_compiler_bindir() in \"C:\\Users\\cszha\\styleGAN\\stylegan2-ada-pytorch\\torch_utils\\custom_ops.py\".\n",
      "\n",
      "  warnings.warn('Failed to build CUDA kernels for upfirdn2d. Falling back to slow reference implementation. Details:\\n\\n' + traceback.format_exc())\n"
     ]
    },
    {
     "name": "stdout",
     "output_type": "stream",
     "text": [
      "Failed!\n",
      "Setting up PyTorch plugin \"upfirdn2d_plugin\"... Failed!\n",
      "Setting up PyTorch plugin \"upfirdn2d_plugin\"... "
     ]
    },
    {
     "name": "stderr",
     "output_type": "stream",
     "text": [
      "C:\\Users\\cszha\\styleGAN\\stylegan2-ada-pytorch\\torch_utils\\ops\\upfirdn2d.py:34: UserWarning: Failed to build CUDA kernels for upfirdn2d. Falling back to slow reference implementation. Details:\n",
      "\n",
      "Traceback (most recent call last):\n",
      "  File \"C:\\Users\\cszha\\styleGAN\\stylegan2-ada-pytorch\\torch_utils\\ops\\upfirdn2d.py\", line 32, in _init\n",
      "    _plugin = custom_ops.get_plugin('upfirdn2d_plugin', sources=sources, extra_cuda_cflags=['--use_fast_math'])\n",
      "  File \"C:\\Users\\cszha\\styleGAN\\stylegan2-ada-pytorch\\torch_utils\\custom_ops.py\", line 64, in get_plugin\n",
      "    raise RuntimeError(f'Could not find MSVC/GCC/CLANG installation on this computer. Check _find_compiler_bindir() in \"{__file__}\".')\n",
      "RuntimeError: Could not find MSVC/GCC/CLANG installation on this computer. Check _find_compiler_bindir() in \"C:\\Users\\cszha\\styleGAN\\stylegan2-ada-pytorch\\torch_utils\\custom_ops.py\".\n",
      "\n",
      "  warnings.warn('Failed to build CUDA kernels for upfirdn2d. Falling back to slow reference implementation. Details:\\n\\n' + traceback.format_exc())\n",
      "C:\\Users\\cszha\\styleGAN\\stylegan2-ada-pytorch\\torch_utils\\ops\\upfirdn2d.py:34: UserWarning: Failed to build CUDA kernels for upfirdn2d. Falling back to slow reference implementation. Details:\n",
      "\n",
      "Traceback (most recent call last):\n",
      "  File \"C:\\Users\\cszha\\styleGAN\\stylegan2-ada-pytorch\\torch_utils\\ops\\upfirdn2d.py\", line 32, in _init\n",
      "    _plugin = custom_ops.get_plugin('upfirdn2d_plugin', sources=sources, extra_cuda_cflags=['--use_fast_math'])\n",
      "  File \"C:\\Users\\cszha\\styleGAN\\stylegan2-ada-pytorch\\torch_utils\\custom_ops.py\", line 64, in get_plugin\n",
      "    raise RuntimeError(f'Could not find MSVC/GCC/CLANG installation on this computer. Check _find_compiler_bindir() in \"{__file__}\".')\n",
      "RuntimeError: Could not find MSVC/GCC/CLANG installation on this computer. Check _find_compiler_bindir() in \"C:\\Users\\cszha\\styleGAN\\stylegan2-ada-pytorch\\torch_utils\\custom_ops.py\".\n",
      "\n",
      "  warnings.warn('Failed to build CUDA kernels for upfirdn2d. Falling back to slow reference implementation. Details:\\n\\n' + traceback.format_exc())\n"
     ]
    },
    {
     "name": "stdout",
     "output_type": "stream",
     "text": [
      "Failed!\n",
      "Setting up PyTorch plugin \"upfirdn2d_plugin\"... Failed!\n",
      "Setting up PyTorch plugin \"upfirdn2d_plugin\"... "
     ]
    },
    {
     "name": "stderr",
     "output_type": "stream",
     "text": [
      "C:\\Users\\cszha\\styleGAN\\stylegan2-ada-pytorch\\torch_utils\\ops\\upfirdn2d.py:34: UserWarning: Failed to build CUDA kernels for upfirdn2d. Falling back to slow reference implementation. Details:\n",
      "\n",
      "Traceback (most recent call last):\n",
      "  File \"C:\\Users\\cszha\\styleGAN\\stylegan2-ada-pytorch\\torch_utils\\ops\\upfirdn2d.py\", line 32, in _init\n",
      "    _plugin = custom_ops.get_plugin('upfirdn2d_plugin', sources=sources, extra_cuda_cflags=['--use_fast_math'])\n",
      "  File \"C:\\Users\\cszha\\styleGAN\\stylegan2-ada-pytorch\\torch_utils\\custom_ops.py\", line 64, in get_plugin\n",
      "    raise RuntimeError(f'Could not find MSVC/GCC/CLANG installation on this computer. Check _find_compiler_bindir() in \"{__file__}\".')\n",
      "RuntimeError: Could not find MSVC/GCC/CLANG installation on this computer. Check _find_compiler_bindir() in \"C:\\Users\\cszha\\styleGAN\\stylegan2-ada-pytorch\\torch_utils\\custom_ops.py\".\n",
      "\n",
      "  warnings.warn('Failed to build CUDA kernels for upfirdn2d. Falling back to slow reference implementation. Details:\\n\\n' + traceback.format_exc())\n",
      "C:\\Users\\cszha\\styleGAN\\stylegan2-ada-pytorch\\torch_utils\\ops\\upfirdn2d.py:34: UserWarning: Failed to build CUDA kernels for upfirdn2d. Falling back to slow reference implementation. Details:\n",
      "\n",
      "Traceback (most recent call last):\n",
      "  File \"C:\\Users\\cszha\\styleGAN\\stylegan2-ada-pytorch\\torch_utils\\ops\\upfirdn2d.py\", line 32, in _init\n",
      "    _plugin = custom_ops.get_plugin('upfirdn2d_plugin', sources=sources, extra_cuda_cflags=['--use_fast_math'])\n",
      "  File \"C:\\Users\\cszha\\styleGAN\\stylegan2-ada-pytorch\\torch_utils\\custom_ops.py\", line 64, in get_plugin\n",
      "    raise RuntimeError(f'Could not find MSVC/GCC/CLANG installation on this computer. Check _find_compiler_bindir() in \"{__file__}\".')\n",
      "RuntimeError: Could not find MSVC/GCC/CLANG installation on this computer. Check _find_compiler_bindir() in \"C:\\Users\\cszha\\styleGAN\\stylegan2-ada-pytorch\\torch_utils\\custom_ops.py\".\n",
      "\n",
      "  warnings.warn('Failed to build CUDA kernels for upfirdn2d. Falling back to slow reference implementation. Details:\\n\\n' + traceback.format_exc())\n"
     ]
    },
    {
     "name": "stdout",
     "output_type": "stream",
     "text": [
      "Failed!\n",
      "Setting up PyTorch plugin \"upfirdn2d_plugin\"... Failed!\n",
      "Setting up PyTorch plugin \"upfirdn2d_plugin\"... "
     ]
    },
    {
     "name": "stderr",
     "output_type": "stream",
     "text": [
      "C:\\Users\\cszha\\styleGAN\\stylegan2-ada-pytorch\\torch_utils\\ops\\upfirdn2d.py:34: UserWarning: Failed to build CUDA kernels for upfirdn2d. Falling back to slow reference implementation. Details:\n",
      "\n",
      "Traceback (most recent call last):\n",
      "  File \"C:\\Users\\cszha\\styleGAN\\stylegan2-ada-pytorch\\torch_utils\\ops\\upfirdn2d.py\", line 32, in _init\n",
      "    _plugin = custom_ops.get_plugin('upfirdn2d_plugin', sources=sources, extra_cuda_cflags=['--use_fast_math'])\n",
      "  File \"C:\\Users\\cszha\\styleGAN\\stylegan2-ada-pytorch\\torch_utils\\custom_ops.py\", line 64, in get_plugin\n",
      "    raise RuntimeError(f'Could not find MSVC/GCC/CLANG installation on this computer. Check _find_compiler_bindir() in \"{__file__}\".')\n",
      "RuntimeError: Could not find MSVC/GCC/CLANG installation on this computer. Check _find_compiler_bindir() in \"C:\\Users\\cszha\\styleGAN\\stylegan2-ada-pytorch\\torch_utils\\custom_ops.py\".\n",
      "\n",
      "  warnings.warn('Failed to build CUDA kernels for upfirdn2d. Falling back to slow reference implementation. Details:\\n\\n' + traceback.format_exc())\n",
      "C:\\Users\\cszha\\styleGAN\\stylegan2-ada-pytorch\\torch_utils\\ops\\upfirdn2d.py:34: UserWarning: Failed to build CUDA kernels for upfirdn2d. Falling back to slow reference implementation. Details:\n",
      "\n",
      "Traceback (most recent call last):\n",
      "  File \"C:\\Users\\cszha\\styleGAN\\stylegan2-ada-pytorch\\torch_utils\\ops\\upfirdn2d.py\", line 32, in _init\n",
      "    _plugin = custom_ops.get_plugin('upfirdn2d_plugin', sources=sources, extra_cuda_cflags=['--use_fast_math'])\n",
      "  File \"C:\\Users\\cszha\\styleGAN\\stylegan2-ada-pytorch\\torch_utils\\custom_ops.py\", line 64, in get_plugin\n",
      "    raise RuntimeError(f'Could not find MSVC/GCC/CLANG installation on this computer. Check _find_compiler_bindir() in \"{__file__}\".')\n",
      "RuntimeError: Could not find MSVC/GCC/CLANG installation on this computer. Check _find_compiler_bindir() in \"C:\\Users\\cszha\\styleGAN\\stylegan2-ada-pytorch\\torch_utils\\custom_ops.py\".\n",
      "\n",
      "  warnings.warn('Failed to build CUDA kernels for upfirdn2d. Falling back to slow reference implementation. Details:\\n\\n' + traceback.format_exc())\n"
     ]
    },
    {
     "name": "stdout",
     "output_type": "stream",
     "text": [
      "Failed!\n",
      "Generating image for seed 92725 (6/10) ...\n",
      "Setting up PyTorch plugin \"upfirdn2d_plugin\"... Failed!\n",
      "Setting up PyTorch plugin \"upfirdn2d_plugin\"... "
     ]
    },
    {
     "name": "stderr",
     "output_type": "stream",
     "text": [
      "C:\\Users\\cszha\\styleGAN\\stylegan2-ada-pytorch\\torch_utils\\ops\\upfirdn2d.py:34: UserWarning: Failed to build CUDA kernels for upfirdn2d. Falling back to slow reference implementation. Details:\n",
      "\n",
      "Traceback (most recent call last):\n",
      "  File \"C:\\Users\\cszha\\styleGAN\\stylegan2-ada-pytorch\\torch_utils\\ops\\upfirdn2d.py\", line 32, in _init\n",
      "    _plugin = custom_ops.get_plugin('upfirdn2d_plugin', sources=sources, extra_cuda_cflags=['--use_fast_math'])\n",
      "  File \"C:\\Users\\cszha\\styleGAN\\stylegan2-ada-pytorch\\torch_utils\\custom_ops.py\", line 64, in get_plugin\n",
      "    raise RuntimeError(f'Could not find MSVC/GCC/CLANG installation on this computer. Check _find_compiler_bindir() in \"{__file__}\".')\n",
      "RuntimeError: Could not find MSVC/GCC/CLANG installation on this computer. Check _find_compiler_bindir() in \"C:\\Users\\cszha\\styleGAN\\stylegan2-ada-pytorch\\torch_utils\\custom_ops.py\".\n",
      "\n",
      "  warnings.warn('Failed to build CUDA kernels for upfirdn2d. Falling back to slow reference implementation. Details:\\n\\n' + traceback.format_exc())\n",
      "C:\\Users\\cszha\\styleGAN\\stylegan2-ada-pytorch\\torch_utils\\ops\\upfirdn2d.py:34: UserWarning: Failed to build CUDA kernels for upfirdn2d. Falling back to slow reference implementation. Details:\n",
      "\n",
      "Traceback (most recent call last):\n",
      "  File \"C:\\Users\\cszha\\styleGAN\\stylegan2-ada-pytorch\\torch_utils\\ops\\upfirdn2d.py\", line 32, in _init\n",
      "    _plugin = custom_ops.get_plugin('upfirdn2d_plugin', sources=sources, extra_cuda_cflags=['--use_fast_math'])\n",
      "  File \"C:\\Users\\cszha\\styleGAN\\stylegan2-ada-pytorch\\torch_utils\\custom_ops.py\", line 64, in get_plugin\n",
      "    raise RuntimeError(f'Could not find MSVC/GCC/CLANG installation on this computer. Check _find_compiler_bindir() in \"{__file__}\".')\n",
      "RuntimeError: Could not find MSVC/GCC/CLANG installation on this computer. Check _find_compiler_bindir() in \"C:\\Users\\cszha\\styleGAN\\stylegan2-ada-pytorch\\torch_utils\\custom_ops.py\".\n",
      "\n",
      "  warnings.warn('Failed to build CUDA kernels for upfirdn2d. Falling back to slow reference implementation. Details:\\n\\n' + traceback.format_exc())\n"
     ]
    },
    {
     "name": "stdout",
     "output_type": "stream",
     "text": [
      "Failed!\n",
      "Setting up PyTorch plugin \"upfirdn2d_plugin\"... Failed!\n",
      "Setting up PyTorch plugin \"upfirdn2d_plugin\"... "
     ]
    },
    {
     "name": "stderr",
     "output_type": "stream",
     "text": [
      "C:\\Users\\cszha\\styleGAN\\stylegan2-ada-pytorch\\torch_utils\\ops\\upfirdn2d.py:34: UserWarning: Failed to build CUDA kernels for upfirdn2d. Falling back to slow reference implementation. Details:\n",
      "\n",
      "Traceback (most recent call last):\n",
      "  File \"C:\\Users\\cszha\\styleGAN\\stylegan2-ada-pytorch\\torch_utils\\ops\\upfirdn2d.py\", line 32, in _init\n",
      "    _plugin = custom_ops.get_plugin('upfirdn2d_plugin', sources=sources, extra_cuda_cflags=['--use_fast_math'])\n",
      "  File \"C:\\Users\\cszha\\styleGAN\\stylegan2-ada-pytorch\\torch_utils\\custom_ops.py\", line 64, in get_plugin\n",
      "    raise RuntimeError(f'Could not find MSVC/GCC/CLANG installation on this computer. Check _find_compiler_bindir() in \"{__file__}\".')\n",
      "RuntimeError: Could not find MSVC/GCC/CLANG installation on this computer. Check _find_compiler_bindir() in \"C:\\Users\\cszha\\styleGAN\\stylegan2-ada-pytorch\\torch_utils\\custom_ops.py\".\n",
      "\n",
      "  warnings.warn('Failed to build CUDA kernels for upfirdn2d. Falling back to slow reference implementation. Details:\\n\\n' + traceback.format_exc())\n",
      "C:\\Users\\cszha\\styleGAN\\stylegan2-ada-pytorch\\torch_utils\\ops\\upfirdn2d.py:34: UserWarning: Failed to build CUDA kernels for upfirdn2d. Falling back to slow reference implementation. Details:\n",
      "\n",
      "Traceback (most recent call last):\n",
      "  File \"C:\\Users\\cszha\\styleGAN\\stylegan2-ada-pytorch\\torch_utils\\ops\\upfirdn2d.py\", line 32, in _init\n",
      "    _plugin = custom_ops.get_plugin('upfirdn2d_plugin', sources=sources, extra_cuda_cflags=['--use_fast_math'])\n",
      "  File \"C:\\Users\\cszha\\styleGAN\\stylegan2-ada-pytorch\\torch_utils\\custom_ops.py\", line 64, in get_plugin\n",
      "    raise RuntimeError(f'Could not find MSVC/GCC/CLANG installation on this computer. Check _find_compiler_bindir() in \"{__file__}\".')\n",
      "RuntimeError: Could not find MSVC/GCC/CLANG installation on this computer. Check _find_compiler_bindir() in \"C:\\Users\\cszha\\styleGAN\\stylegan2-ada-pytorch\\torch_utils\\custom_ops.py\".\n",
      "\n",
      "  warnings.warn('Failed to build CUDA kernels for upfirdn2d. Falling back to slow reference implementation. Details:\\n\\n' + traceback.format_exc())\n"
     ]
    },
    {
     "name": "stdout",
     "output_type": "stream",
     "text": [
      "Failed!\n",
      "Setting up PyTorch plugin \"upfirdn2d_plugin\"... Failed!\n",
      "Setting up PyTorch plugin \"upfirdn2d_plugin\"... Failed!\n"
     ]
    },
    {
     "name": "stderr",
     "output_type": "stream",
     "text": [
      "C:\\Users\\cszha\\styleGAN\\stylegan2-ada-pytorch\\torch_utils\\ops\\upfirdn2d.py:34: UserWarning: Failed to build CUDA kernels for upfirdn2d. Falling back to slow reference implementation. Details:\n",
      "\n",
      "Traceback (most recent call last):\n",
      "  File \"C:\\Users\\cszha\\styleGAN\\stylegan2-ada-pytorch\\torch_utils\\ops\\upfirdn2d.py\", line 32, in _init\n",
      "    _plugin = custom_ops.get_plugin('upfirdn2d_plugin', sources=sources, extra_cuda_cflags=['--use_fast_math'])\n",
      "  File \"C:\\Users\\cszha\\styleGAN\\stylegan2-ada-pytorch\\torch_utils\\custom_ops.py\", line 64, in get_plugin\n",
      "    raise RuntimeError(f'Could not find MSVC/GCC/CLANG installation on this computer. Check _find_compiler_bindir() in \"{__file__}\".')\n",
      "RuntimeError: Could not find MSVC/GCC/CLANG installation on this computer. Check _find_compiler_bindir() in \"C:\\Users\\cszha\\styleGAN\\stylegan2-ada-pytorch\\torch_utils\\custom_ops.py\".\n",
      "\n",
      "  warnings.warn('Failed to build CUDA kernels for upfirdn2d. Falling back to slow reference implementation. Details:\\n\\n' + traceback.format_exc())\n",
      "C:\\Users\\cszha\\styleGAN\\stylegan2-ada-pytorch\\torch_utils\\ops\\upfirdn2d.py:34: UserWarning: Failed to build CUDA kernels for upfirdn2d. Falling back to slow reference implementation. Details:\n",
      "\n",
      "Traceback (most recent call last):\n",
      "  File \"C:\\Users\\cszha\\styleGAN\\stylegan2-ada-pytorch\\torch_utils\\ops\\upfirdn2d.py\", line 32, in _init\n",
      "    _plugin = custom_ops.get_plugin('upfirdn2d_plugin', sources=sources, extra_cuda_cflags=['--use_fast_math'])\n",
      "  File \"C:\\Users\\cszha\\styleGAN\\stylegan2-ada-pytorch\\torch_utils\\custom_ops.py\", line 64, in get_plugin\n",
      "    raise RuntimeError(f'Could not find MSVC/GCC/CLANG installation on this computer. Check _find_compiler_bindir() in \"{__file__}\".')\n",
      "RuntimeError: Could not find MSVC/GCC/CLANG installation on this computer. Check _find_compiler_bindir() in \"C:\\Users\\cszha\\styleGAN\\stylegan2-ada-pytorch\\torch_utils\\custom_ops.py\".\n",
      "\n",
      "  warnings.warn('Failed to build CUDA kernels for upfirdn2d. Falling back to slow reference implementation. Details:\\n\\n' + traceback.format_exc())\n"
     ]
    },
    {
     "name": "stdout",
     "output_type": "stream",
     "text": [
      "Setting up PyTorch plugin \"upfirdn2d_plugin\"... Failed!\n",
      "Setting up PyTorch plugin \"upfirdn2d_plugin\"... "
     ]
    },
    {
     "name": "stderr",
     "output_type": "stream",
     "text": [
      "C:\\Users\\cszha\\styleGAN\\stylegan2-ada-pytorch\\torch_utils\\ops\\upfirdn2d.py:34: UserWarning: Failed to build CUDA kernels for upfirdn2d. Falling back to slow reference implementation. Details:\n",
      "\n",
      "Traceback (most recent call last):\n",
      "  File \"C:\\Users\\cszha\\styleGAN\\stylegan2-ada-pytorch\\torch_utils\\ops\\upfirdn2d.py\", line 32, in _init\n",
      "    _plugin = custom_ops.get_plugin('upfirdn2d_plugin', sources=sources, extra_cuda_cflags=['--use_fast_math'])\n",
      "  File \"C:\\Users\\cszha\\styleGAN\\stylegan2-ada-pytorch\\torch_utils\\custom_ops.py\", line 64, in get_plugin\n",
      "    raise RuntimeError(f'Could not find MSVC/GCC/CLANG installation on this computer. Check _find_compiler_bindir() in \"{__file__}\".')\n",
      "RuntimeError: Could not find MSVC/GCC/CLANG installation on this computer. Check _find_compiler_bindir() in \"C:\\Users\\cszha\\styleGAN\\stylegan2-ada-pytorch\\torch_utils\\custom_ops.py\".\n",
      "\n",
      "  warnings.warn('Failed to build CUDA kernels for upfirdn2d. Falling back to slow reference implementation. Details:\\n\\n' + traceback.format_exc())\n",
      "C:\\Users\\cszha\\styleGAN\\stylegan2-ada-pytorch\\torch_utils\\ops\\upfirdn2d.py:34: UserWarning: Failed to build CUDA kernels for upfirdn2d. Falling back to slow reference implementation. Details:\n",
      "\n",
      "Traceback (most recent call last):\n",
      "  File \"C:\\Users\\cszha\\styleGAN\\stylegan2-ada-pytorch\\torch_utils\\ops\\upfirdn2d.py\", line 32, in _init\n",
      "    _plugin = custom_ops.get_plugin('upfirdn2d_plugin', sources=sources, extra_cuda_cflags=['--use_fast_math'])\n",
      "  File \"C:\\Users\\cszha\\styleGAN\\stylegan2-ada-pytorch\\torch_utils\\custom_ops.py\", line 64, in get_plugin\n",
      "    raise RuntimeError(f'Could not find MSVC/GCC/CLANG installation on this computer. Check _find_compiler_bindir() in \"{__file__}\".')\n",
      "RuntimeError: Could not find MSVC/GCC/CLANG installation on this computer. Check _find_compiler_bindir() in \"C:\\Users\\cszha\\styleGAN\\stylegan2-ada-pytorch\\torch_utils\\custom_ops.py\".\n",
      "\n",
      "  warnings.warn('Failed to build CUDA kernels for upfirdn2d. Falling back to slow reference implementation. Details:\\n\\n' + traceback.format_exc())\n",
      "C:\\Users\\cszha\\styleGAN\\stylegan2-ada-pytorch\\torch_utils\\ops\\upfirdn2d.py:34: UserWarning: Failed to build CUDA kernels for upfirdn2d. Falling back to slow reference implementation. Details:\n",
      "\n",
      "Traceback (most recent call last):\n",
      "  File \"C:\\Users\\cszha\\styleGAN\\stylegan2-ada-pytorch\\torch_utils\\ops\\upfirdn2d.py\", line 32, in _init\n",
      "    _plugin = custom_ops.get_plugin('upfirdn2d_plugin', sources=sources, extra_cuda_cflags=['--use_fast_math'])\n",
      "  File \"C:\\Users\\cszha\\styleGAN\\stylegan2-ada-pytorch\\torch_utils\\custom_ops.py\", line 64, in get_plugin\n",
      "    raise RuntimeError(f'Could not find MSVC/GCC/CLANG installation on this computer. Check _find_compiler_bindir() in \"{__file__}\".')\n",
      "RuntimeError: Could not find MSVC/GCC/CLANG installation on this computer. Check _find_compiler_bindir() in \"C:\\Users\\cszha\\styleGAN\\stylegan2-ada-pytorch\\torch_utils\\custom_ops.py\".\n",
      "\n",
      "  warnings.warn('Failed to build CUDA kernels for upfirdn2d. Falling back to slow reference implementation. Details:\\n\\n' + traceback.format_exc())\n"
     ]
    },
    {
     "name": "stdout",
     "output_type": "stream",
     "text": [
      "Failed!\n",
      "Setting up PyTorch plugin \"upfirdn2d_plugin\"... Failed!\n",
      "Setting up PyTorch plugin \"upfirdn2d_plugin\"... Failed!\n",
      "Setting up PyTorch plugin \"upfirdn2d_plugin\"... Failed!\n"
     ]
    },
    {
     "name": "stderr",
     "output_type": "stream",
     "text": [
      "C:\\Users\\cszha\\styleGAN\\stylegan2-ada-pytorch\\torch_utils\\ops\\upfirdn2d.py:34: UserWarning: Failed to build CUDA kernels for upfirdn2d. Falling back to slow reference implementation. Details:\n",
      "\n",
      "Traceback (most recent call last):\n",
      "  File \"C:\\Users\\cszha\\styleGAN\\stylegan2-ada-pytorch\\torch_utils\\ops\\upfirdn2d.py\", line 32, in _init\n",
      "    _plugin = custom_ops.get_plugin('upfirdn2d_plugin', sources=sources, extra_cuda_cflags=['--use_fast_math'])\n",
      "  File \"C:\\Users\\cszha\\styleGAN\\stylegan2-ada-pytorch\\torch_utils\\custom_ops.py\", line 64, in get_plugin\n",
      "    raise RuntimeError(f'Could not find MSVC/GCC/CLANG installation on this computer. Check _find_compiler_bindir() in \"{__file__}\".')\n",
      "RuntimeError: Could not find MSVC/GCC/CLANG installation on this computer. Check _find_compiler_bindir() in \"C:\\Users\\cszha\\styleGAN\\stylegan2-ada-pytorch\\torch_utils\\custom_ops.py\".\n",
      "\n",
      "  warnings.warn('Failed to build CUDA kernels for upfirdn2d. Falling back to slow reference implementation. Details:\\n\\n' + traceback.format_exc())\n",
      "C:\\Users\\cszha\\styleGAN\\stylegan2-ada-pytorch\\torch_utils\\ops\\upfirdn2d.py:34: UserWarning: Failed to build CUDA kernels for upfirdn2d. Falling back to slow reference implementation. Details:\n",
      "\n",
      "Traceback (most recent call last):\n",
      "  File \"C:\\Users\\cszha\\styleGAN\\stylegan2-ada-pytorch\\torch_utils\\ops\\upfirdn2d.py\", line 32, in _init\n",
      "    _plugin = custom_ops.get_plugin('upfirdn2d_plugin', sources=sources, extra_cuda_cflags=['--use_fast_math'])\n",
      "  File \"C:\\Users\\cszha\\styleGAN\\stylegan2-ada-pytorch\\torch_utils\\custom_ops.py\", line 64, in get_plugin\n",
      "    raise RuntimeError(f'Could not find MSVC/GCC/CLANG installation on this computer. Check _find_compiler_bindir() in \"{__file__}\".')\n",
      "RuntimeError: Could not find MSVC/GCC/CLANG installation on this computer. Check _find_compiler_bindir() in \"C:\\Users\\cszha\\styleGAN\\stylegan2-ada-pytorch\\torch_utils\\custom_ops.py\".\n",
      "\n",
      "  warnings.warn('Failed to build CUDA kernels for upfirdn2d. Falling back to slow reference implementation. Details:\\n\\n' + traceback.format_exc())\n"
     ]
    },
    {
     "name": "stdout",
     "output_type": "stream",
     "text": [
      "Setting up PyTorch plugin \"upfirdn2d_plugin\"... Failed!\n",
      "Generating image for seed 54856 (7/10) ...\n",
      "Setting up PyTorch plugin \"upfirdn2d_plugin\"... "
     ]
    },
    {
     "name": "stderr",
     "output_type": "stream",
     "text": [
      "C:\\Users\\cszha\\styleGAN\\stylegan2-ada-pytorch\\torch_utils\\ops\\upfirdn2d.py:34: UserWarning: Failed to build CUDA kernels for upfirdn2d. Falling back to slow reference implementation. Details:\n",
      "\n",
      "Traceback (most recent call last):\n",
      "  File \"C:\\Users\\cszha\\styleGAN\\stylegan2-ada-pytorch\\torch_utils\\ops\\upfirdn2d.py\", line 32, in _init\n",
      "    _plugin = custom_ops.get_plugin('upfirdn2d_plugin', sources=sources, extra_cuda_cflags=['--use_fast_math'])\n",
      "  File \"C:\\Users\\cszha\\styleGAN\\stylegan2-ada-pytorch\\torch_utils\\custom_ops.py\", line 64, in get_plugin\n",
      "    raise RuntimeError(f'Could not find MSVC/GCC/CLANG installation on this computer. Check _find_compiler_bindir() in \"{__file__}\".')\n",
      "RuntimeError: Could not find MSVC/GCC/CLANG installation on this computer. Check _find_compiler_bindir() in \"C:\\Users\\cszha\\styleGAN\\stylegan2-ada-pytorch\\torch_utils\\custom_ops.py\".\n",
      "\n",
      "  warnings.warn('Failed to build CUDA kernels for upfirdn2d. Falling back to slow reference implementation. Details:\\n\\n' + traceback.format_exc())\n",
      "C:\\Users\\cszha\\styleGAN\\stylegan2-ada-pytorch\\torch_utils\\ops\\upfirdn2d.py:34: UserWarning: Failed to build CUDA kernels for upfirdn2d. Falling back to slow reference implementation. Details:\n",
      "\n",
      "Traceback (most recent call last):\n",
      "  File \"C:\\Users\\cszha\\styleGAN\\stylegan2-ada-pytorch\\torch_utils\\ops\\upfirdn2d.py\", line 32, in _init\n",
      "    _plugin = custom_ops.get_plugin('upfirdn2d_plugin', sources=sources, extra_cuda_cflags=['--use_fast_math'])\n",
      "  File \"C:\\Users\\cszha\\styleGAN\\stylegan2-ada-pytorch\\torch_utils\\custom_ops.py\", line 64, in get_plugin\n",
      "    raise RuntimeError(f'Could not find MSVC/GCC/CLANG installation on this computer. Check _find_compiler_bindir() in \"{__file__}\".')\n",
      "RuntimeError: Could not find MSVC/GCC/CLANG installation on this computer. Check _find_compiler_bindir() in \"C:\\Users\\cszha\\styleGAN\\stylegan2-ada-pytorch\\torch_utils\\custom_ops.py\".\n",
      "\n",
      "  warnings.warn('Failed to build CUDA kernels for upfirdn2d. Falling back to slow reference implementation. Details:\\n\\n' + traceback.format_exc())\n"
     ]
    },
    {
     "name": "stdout",
     "output_type": "stream",
     "text": [
      "Failed!\n",
      "Setting up PyTorch plugin \"upfirdn2d_plugin\"... Failed!\n",
      "Setting up PyTorch plugin \"upfirdn2d_plugin\"... "
     ]
    },
    {
     "name": "stderr",
     "output_type": "stream",
     "text": [
      "C:\\Users\\cszha\\styleGAN\\stylegan2-ada-pytorch\\torch_utils\\ops\\upfirdn2d.py:34: UserWarning: Failed to build CUDA kernels for upfirdn2d. Falling back to slow reference implementation. Details:\n",
      "\n",
      "Traceback (most recent call last):\n",
      "  File \"C:\\Users\\cszha\\styleGAN\\stylegan2-ada-pytorch\\torch_utils\\ops\\upfirdn2d.py\", line 32, in _init\n",
      "    _plugin = custom_ops.get_plugin('upfirdn2d_plugin', sources=sources, extra_cuda_cflags=['--use_fast_math'])\n",
      "  File \"C:\\Users\\cszha\\styleGAN\\stylegan2-ada-pytorch\\torch_utils\\custom_ops.py\", line 64, in get_plugin\n",
      "    raise RuntimeError(f'Could not find MSVC/GCC/CLANG installation on this computer. Check _find_compiler_bindir() in \"{__file__}\".')\n",
      "RuntimeError: Could not find MSVC/GCC/CLANG installation on this computer. Check _find_compiler_bindir() in \"C:\\Users\\cszha\\styleGAN\\stylegan2-ada-pytorch\\torch_utils\\custom_ops.py\".\n",
      "\n",
      "  warnings.warn('Failed to build CUDA kernels for upfirdn2d. Falling back to slow reference implementation. Details:\\n\\n' + traceback.format_exc())\n",
      "C:\\Users\\cszha\\styleGAN\\stylegan2-ada-pytorch\\torch_utils\\ops\\upfirdn2d.py:34: UserWarning: Failed to build CUDA kernels for upfirdn2d. Falling back to slow reference implementation. Details:\n",
      "\n",
      "Traceback (most recent call last):\n",
      "  File \"C:\\Users\\cszha\\styleGAN\\stylegan2-ada-pytorch\\torch_utils\\ops\\upfirdn2d.py\", line 32, in _init\n",
      "    _plugin = custom_ops.get_plugin('upfirdn2d_plugin', sources=sources, extra_cuda_cflags=['--use_fast_math'])\n",
      "  File \"C:\\Users\\cszha\\styleGAN\\stylegan2-ada-pytorch\\torch_utils\\custom_ops.py\", line 64, in get_plugin\n",
      "    raise RuntimeError(f'Could not find MSVC/GCC/CLANG installation on this computer. Check _find_compiler_bindir() in \"{__file__}\".')\n",
      "RuntimeError: Could not find MSVC/GCC/CLANG installation on this computer. Check _find_compiler_bindir() in \"C:\\Users\\cszha\\styleGAN\\stylegan2-ada-pytorch\\torch_utils\\custom_ops.py\".\n",
      "\n",
      "  warnings.warn('Failed to build CUDA kernels for upfirdn2d. Falling back to slow reference implementation. Details:\\n\\n' + traceback.format_exc())\n"
     ]
    },
    {
     "name": "stdout",
     "output_type": "stream",
     "text": [
      "Failed!\n",
      "Setting up PyTorch plugin \"upfirdn2d_plugin\"... Failed!\n",
      "Setting up PyTorch plugin \"upfirdn2d_plugin\"... Failed!\n",
      "Setting up PyTorch plugin \"upfirdn2d_plugin\"... "
     ]
    },
    {
     "name": "stderr",
     "output_type": "stream",
     "text": [
      "C:\\Users\\cszha\\styleGAN\\stylegan2-ada-pytorch\\torch_utils\\ops\\upfirdn2d.py:34: UserWarning: Failed to build CUDA kernels for upfirdn2d. Falling back to slow reference implementation. Details:\n",
      "\n",
      "Traceback (most recent call last):\n",
      "  File \"C:\\Users\\cszha\\styleGAN\\stylegan2-ada-pytorch\\torch_utils\\ops\\upfirdn2d.py\", line 32, in _init\n",
      "    _plugin = custom_ops.get_plugin('upfirdn2d_plugin', sources=sources, extra_cuda_cflags=['--use_fast_math'])\n",
      "  File \"C:\\Users\\cszha\\styleGAN\\stylegan2-ada-pytorch\\torch_utils\\custom_ops.py\", line 64, in get_plugin\n",
      "    raise RuntimeError(f'Could not find MSVC/GCC/CLANG installation on this computer. Check _find_compiler_bindir() in \"{__file__}\".')\n",
      "RuntimeError: Could not find MSVC/GCC/CLANG installation on this computer. Check _find_compiler_bindir() in \"C:\\Users\\cszha\\styleGAN\\stylegan2-ada-pytorch\\torch_utils\\custom_ops.py\".\n",
      "\n",
      "  warnings.warn('Failed to build CUDA kernels for upfirdn2d. Falling back to slow reference implementation. Details:\\n\\n' + traceback.format_exc())\n",
      "C:\\Users\\cszha\\styleGAN\\stylegan2-ada-pytorch\\torch_utils\\ops\\upfirdn2d.py:34: UserWarning: Failed to build CUDA kernels for upfirdn2d. Falling back to slow reference implementation. Details:\n",
      "\n",
      "Traceback (most recent call last):\n",
      "  File \"C:\\Users\\cszha\\styleGAN\\stylegan2-ada-pytorch\\torch_utils\\ops\\upfirdn2d.py\", line 32, in _init\n",
      "    _plugin = custom_ops.get_plugin('upfirdn2d_plugin', sources=sources, extra_cuda_cflags=['--use_fast_math'])\n",
      "  File \"C:\\Users\\cszha\\styleGAN\\stylegan2-ada-pytorch\\torch_utils\\custom_ops.py\", line 64, in get_plugin\n",
      "    raise RuntimeError(f'Could not find MSVC/GCC/CLANG installation on this computer. Check _find_compiler_bindir() in \"{__file__}\".')\n",
      "RuntimeError: Could not find MSVC/GCC/CLANG installation on this computer. Check _find_compiler_bindir() in \"C:\\Users\\cszha\\styleGAN\\stylegan2-ada-pytorch\\torch_utils\\custom_ops.py\".\n",
      "\n",
      "  warnings.warn('Failed to build CUDA kernels for upfirdn2d. Falling back to slow reference implementation. Details:\\n\\n' + traceback.format_exc())\n",
      "C:\\Users\\cszha\\styleGAN\\stylegan2-ada-pytorch\\torch_utils\\ops\\upfirdn2d.py:34: UserWarning: Failed to build CUDA kernels for upfirdn2d. Falling back to slow reference implementation. Details:\n",
      "\n",
      "Traceback (most recent call last):\n",
      "  File \"C:\\Users\\cszha\\styleGAN\\stylegan2-ada-pytorch\\torch_utils\\ops\\upfirdn2d.py\", line 32, in _init\n",
      "    _plugin = custom_ops.get_plugin('upfirdn2d_plugin', sources=sources, extra_cuda_cflags=['--use_fast_math'])\n",
      "  File \"C:\\Users\\cszha\\styleGAN\\stylegan2-ada-pytorch\\torch_utils\\custom_ops.py\", line 64, in get_plugin\n",
      "    raise RuntimeError(f'Could not find MSVC/GCC/CLANG installation on this computer. Check _find_compiler_bindir() in \"{__file__}\".')\n",
      "RuntimeError: Could not find MSVC/GCC/CLANG installation on this computer. Check _find_compiler_bindir() in \"C:\\Users\\cszha\\styleGAN\\stylegan2-ada-pytorch\\torch_utils\\custom_ops.py\".\n",
      "\n",
      "  warnings.warn('Failed to build CUDA kernels for upfirdn2d. Falling back to slow reference implementation. Details:\\n\\n' + traceback.format_exc())\n"
     ]
    },
    {
     "name": "stdout",
     "output_type": "stream",
     "text": [
      "Failed!\n",
      "Setting up PyTorch plugin \"upfirdn2d_plugin\"... Failed!\n",
      "Setting up PyTorch plugin \"upfirdn2d_plugin\"... Failed!\n"
     ]
    },
    {
     "name": "stderr",
     "output_type": "stream",
     "text": [
      "C:\\Users\\cszha\\styleGAN\\stylegan2-ada-pytorch\\torch_utils\\ops\\upfirdn2d.py:34: UserWarning: Failed to build CUDA kernels for upfirdn2d. Falling back to slow reference implementation. Details:\n",
      "\n",
      "Traceback (most recent call last):\n",
      "  File \"C:\\Users\\cszha\\styleGAN\\stylegan2-ada-pytorch\\torch_utils\\ops\\upfirdn2d.py\", line 32, in _init\n",
      "    _plugin = custom_ops.get_plugin('upfirdn2d_plugin', sources=sources, extra_cuda_cflags=['--use_fast_math'])\n",
      "  File \"C:\\Users\\cszha\\styleGAN\\stylegan2-ada-pytorch\\torch_utils\\custom_ops.py\", line 64, in get_plugin\n",
      "    raise RuntimeError(f'Could not find MSVC/GCC/CLANG installation on this computer. Check _find_compiler_bindir() in \"{__file__}\".')\n",
      "RuntimeError: Could not find MSVC/GCC/CLANG installation on this computer. Check _find_compiler_bindir() in \"C:\\Users\\cszha\\styleGAN\\stylegan2-ada-pytorch\\torch_utils\\custom_ops.py\".\n",
      "\n",
      "  warnings.warn('Failed to build CUDA kernels for upfirdn2d. Falling back to slow reference implementation. Details:\\n\\n' + traceback.format_exc())\n",
      "C:\\Users\\cszha\\styleGAN\\stylegan2-ada-pytorch\\torch_utils\\ops\\upfirdn2d.py:34: UserWarning: Failed to build CUDA kernels for upfirdn2d. Falling back to slow reference implementation. Details:\n",
      "\n",
      "Traceback (most recent call last):\n",
      "  File \"C:\\Users\\cszha\\styleGAN\\stylegan2-ada-pytorch\\torch_utils\\ops\\upfirdn2d.py\", line 32, in _init\n",
      "    _plugin = custom_ops.get_plugin('upfirdn2d_plugin', sources=sources, extra_cuda_cflags=['--use_fast_math'])\n",
      "  File \"C:\\Users\\cszha\\styleGAN\\stylegan2-ada-pytorch\\torch_utils\\custom_ops.py\", line 64, in get_plugin\n",
      "    raise RuntimeError(f'Could not find MSVC/GCC/CLANG installation on this computer. Check _find_compiler_bindir() in \"{__file__}\".')\n",
      "RuntimeError: Could not find MSVC/GCC/CLANG installation on this computer. Check _find_compiler_bindir() in \"C:\\Users\\cszha\\styleGAN\\stylegan2-ada-pytorch\\torch_utils\\custom_ops.py\".\n",
      "\n",
      "  warnings.warn('Failed to build CUDA kernels for upfirdn2d. Falling back to slow reference implementation. Details:\\n\\n' + traceback.format_exc())\n"
     ]
    },
    {
     "name": "stdout",
     "output_type": "stream",
     "text": [
      "Setting up PyTorch plugin \"upfirdn2d_plugin\"... Failed!\n",
      "Setting up PyTorch plugin \"upfirdn2d_plugin\"... "
     ]
    },
    {
     "name": "stderr",
     "output_type": "stream",
     "text": [
      "C:\\Users\\cszha\\styleGAN\\stylegan2-ada-pytorch\\torch_utils\\ops\\upfirdn2d.py:34: UserWarning: Failed to build CUDA kernels for upfirdn2d. Falling back to slow reference implementation. Details:\n",
      "\n",
      "Traceback (most recent call last):\n",
      "  File \"C:\\Users\\cszha\\styleGAN\\stylegan2-ada-pytorch\\torch_utils\\ops\\upfirdn2d.py\", line 32, in _init\n",
      "    _plugin = custom_ops.get_plugin('upfirdn2d_plugin', sources=sources, extra_cuda_cflags=['--use_fast_math'])\n",
      "  File \"C:\\Users\\cszha\\styleGAN\\stylegan2-ada-pytorch\\torch_utils\\custom_ops.py\", line 64, in get_plugin\n",
      "    raise RuntimeError(f'Could not find MSVC/GCC/CLANG installation on this computer. Check _find_compiler_bindir() in \"{__file__}\".')\n",
      "RuntimeError: Could not find MSVC/GCC/CLANG installation on this computer. Check _find_compiler_bindir() in \"C:\\Users\\cszha\\styleGAN\\stylegan2-ada-pytorch\\torch_utils\\custom_ops.py\".\n",
      "\n",
      "  warnings.warn('Failed to build CUDA kernels for upfirdn2d. Falling back to slow reference implementation. Details:\\n\\n' + traceback.format_exc())\n",
      "C:\\Users\\cszha\\styleGAN\\stylegan2-ada-pytorch\\torch_utils\\ops\\upfirdn2d.py:34: UserWarning: Failed to build CUDA kernels for upfirdn2d. Falling back to slow reference implementation. Details:\n",
      "\n",
      "Traceback (most recent call last):\n",
      "  File \"C:\\Users\\cszha\\styleGAN\\stylegan2-ada-pytorch\\torch_utils\\ops\\upfirdn2d.py\", line 32, in _init\n",
      "    _plugin = custom_ops.get_plugin('upfirdn2d_plugin', sources=sources, extra_cuda_cflags=['--use_fast_math'])\n",
      "  File \"C:\\Users\\cszha\\styleGAN\\stylegan2-ada-pytorch\\torch_utils\\custom_ops.py\", line 64, in get_plugin\n",
      "    raise RuntimeError(f'Could not find MSVC/GCC/CLANG installation on this computer. Check _find_compiler_bindir() in \"{__file__}\".')\n",
      "RuntimeError: Could not find MSVC/GCC/CLANG installation on this computer. Check _find_compiler_bindir() in \"C:\\Users\\cszha\\styleGAN\\stylegan2-ada-pytorch\\torch_utils\\custom_ops.py\".\n",
      "\n",
      "  warnings.warn('Failed to build CUDA kernels for upfirdn2d. Falling back to slow reference implementation. Details:\\n\\n' + traceback.format_exc())\n",
      "C:\\Users\\cszha\\styleGAN\\stylegan2-ada-pytorch\\torch_utils\\ops\\upfirdn2d.py:34: UserWarning: Failed to build CUDA kernels for upfirdn2d. Falling back to slow reference implementation. Details:\n",
      "\n",
      "Traceback (most recent call last):\n",
      "  File \"C:\\Users\\cszha\\styleGAN\\stylegan2-ada-pytorch\\torch_utils\\ops\\upfirdn2d.py\", line 32, in _init\n",
      "    _plugin = custom_ops.get_plugin('upfirdn2d_plugin', sources=sources, extra_cuda_cflags=['--use_fast_math'])\n",
      "  File \"C:\\Users\\cszha\\styleGAN\\stylegan2-ada-pytorch\\torch_utils\\custom_ops.py\", line 64, in get_plugin\n",
      "    raise RuntimeError(f'Could not find MSVC/GCC/CLANG installation on this computer. Check _find_compiler_bindir() in \"{__file__}\".')\n",
      "RuntimeError: Could not find MSVC/GCC/CLANG installation on this computer. Check _find_compiler_bindir() in \"C:\\Users\\cszha\\styleGAN\\stylegan2-ada-pytorch\\torch_utils\\custom_ops.py\".\n",
      "\n",
      "  warnings.warn('Failed to build CUDA kernels for upfirdn2d. Falling back to slow reference implementation. Details:\\n\\n' + traceback.format_exc())\n"
     ]
    },
    {
     "name": "stdout",
     "output_type": "stream",
     "text": [
      "Failed!\n",
      "Setting up PyTorch plugin \"upfirdn2d_plugin\"... Failed!\n",
      "Setting up PyTorch plugin \"upfirdn2d_plugin\"... Failed!\n",
      "Generating image for seed 32236 (8/10) ...\n",
      "Setting up PyTorch plugin \"upfirdn2d_plugin\"... "
     ]
    },
    {
     "name": "stderr",
     "output_type": "stream",
     "text": [
      "C:\\Users\\cszha\\styleGAN\\stylegan2-ada-pytorch\\torch_utils\\ops\\upfirdn2d.py:34: UserWarning: Failed to build CUDA kernels for upfirdn2d. Falling back to slow reference implementation. Details:\n",
      "\n",
      "Traceback (most recent call last):\n",
      "  File \"C:\\Users\\cszha\\styleGAN\\stylegan2-ada-pytorch\\torch_utils\\ops\\upfirdn2d.py\", line 32, in _init\n",
      "    _plugin = custom_ops.get_plugin('upfirdn2d_plugin', sources=sources, extra_cuda_cflags=['--use_fast_math'])\n",
      "  File \"C:\\Users\\cszha\\styleGAN\\stylegan2-ada-pytorch\\torch_utils\\custom_ops.py\", line 64, in get_plugin\n",
      "    raise RuntimeError(f'Could not find MSVC/GCC/CLANG installation on this computer. Check _find_compiler_bindir() in \"{__file__}\".')\n",
      "RuntimeError: Could not find MSVC/GCC/CLANG installation on this computer. Check _find_compiler_bindir() in \"C:\\Users\\cszha\\styleGAN\\stylegan2-ada-pytorch\\torch_utils\\custom_ops.py\".\n",
      "\n",
      "  warnings.warn('Failed to build CUDA kernels for upfirdn2d. Falling back to slow reference implementation. Details:\\n\\n' + traceback.format_exc())\n",
      "C:\\Users\\cszha\\styleGAN\\stylegan2-ada-pytorch\\torch_utils\\ops\\upfirdn2d.py:34: UserWarning: Failed to build CUDA kernels for upfirdn2d. Falling back to slow reference implementation. Details:\n",
      "\n",
      "Traceback (most recent call last):\n",
      "  File \"C:\\Users\\cszha\\styleGAN\\stylegan2-ada-pytorch\\torch_utils\\ops\\upfirdn2d.py\", line 32, in _init\n",
      "    _plugin = custom_ops.get_plugin('upfirdn2d_plugin', sources=sources, extra_cuda_cflags=['--use_fast_math'])\n",
      "  File \"C:\\Users\\cszha\\styleGAN\\stylegan2-ada-pytorch\\torch_utils\\custom_ops.py\", line 64, in get_plugin\n",
      "    raise RuntimeError(f'Could not find MSVC/GCC/CLANG installation on this computer. Check _find_compiler_bindir() in \"{__file__}\".')\n",
      "RuntimeError: Could not find MSVC/GCC/CLANG installation on this computer. Check _find_compiler_bindir() in \"C:\\Users\\cszha\\styleGAN\\stylegan2-ada-pytorch\\torch_utils\\custom_ops.py\".\n",
      "\n",
      "  warnings.warn('Failed to build CUDA kernels for upfirdn2d. Falling back to slow reference implementation. Details:\\n\\n' + traceback.format_exc())\n"
     ]
    },
    {
     "name": "stdout",
     "output_type": "stream",
     "text": [
      "Failed!\n",
      "Setting up PyTorch plugin \"upfirdn2d_plugin\"... Failed!\n",
      "Setting up PyTorch plugin \"upfirdn2d_plugin\"... "
     ]
    },
    {
     "name": "stderr",
     "output_type": "stream",
     "text": [
      "C:\\Users\\cszha\\styleGAN\\stylegan2-ada-pytorch\\torch_utils\\ops\\upfirdn2d.py:34: UserWarning: Failed to build CUDA kernels for upfirdn2d. Falling back to slow reference implementation. Details:\n",
      "\n",
      "Traceback (most recent call last):\n",
      "  File \"C:\\Users\\cszha\\styleGAN\\stylegan2-ada-pytorch\\torch_utils\\ops\\upfirdn2d.py\", line 32, in _init\n",
      "    _plugin = custom_ops.get_plugin('upfirdn2d_plugin', sources=sources, extra_cuda_cflags=['--use_fast_math'])\n",
      "  File \"C:\\Users\\cszha\\styleGAN\\stylegan2-ada-pytorch\\torch_utils\\custom_ops.py\", line 64, in get_plugin\n",
      "    raise RuntimeError(f'Could not find MSVC/GCC/CLANG installation on this computer. Check _find_compiler_bindir() in \"{__file__}\".')\n",
      "RuntimeError: Could not find MSVC/GCC/CLANG installation on this computer. Check _find_compiler_bindir() in \"C:\\Users\\cszha\\styleGAN\\stylegan2-ada-pytorch\\torch_utils\\custom_ops.py\".\n",
      "\n",
      "  warnings.warn('Failed to build CUDA kernels for upfirdn2d. Falling back to slow reference implementation. Details:\\n\\n' + traceback.format_exc())\n",
      "C:\\Users\\cszha\\styleGAN\\stylegan2-ada-pytorch\\torch_utils\\ops\\upfirdn2d.py:34: UserWarning: Failed to build CUDA kernels for upfirdn2d. Falling back to slow reference implementation. Details:\n",
      "\n",
      "Traceback (most recent call last):\n",
      "  File \"C:\\Users\\cszha\\styleGAN\\stylegan2-ada-pytorch\\torch_utils\\ops\\upfirdn2d.py\", line 32, in _init\n",
      "    _plugin = custom_ops.get_plugin('upfirdn2d_plugin', sources=sources, extra_cuda_cflags=['--use_fast_math'])\n",
      "  File \"C:\\Users\\cszha\\styleGAN\\stylegan2-ada-pytorch\\torch_utils\\custom_ops.py\", line 64, in get_plugin\n",
      "    raise RuntimeError(f'Could not find MSVC/GCC/CLANG installation on this computer. Check _find_compiler_bindir() in \"{__file__}\".')\n",
      "RuntimeError: Could not find MSVC/GCC/CLANG installation on this computer. Check _find_compiler_bindir() in \"C:\\Users\\cszha\\styleGAN\\stylegan2-ada-pytorch\\torch_utils\\custom_ops.py\".\n",
      "\n",
      "  warnings.warn('Failed to build CUDA kernels for upfirdn2d. Falling back to slow reference implementation. Details:\\n\\n' + traceback.format_exc())\n"
     ]
    },
    {
     "name": "stdout",
     "output_type": "stream",
     "text": [
      "Failed!\n",
      "Setting up PyTorch plugin \"upfirdn2d_plugin\"... Failed!\n",
      "Setting up PyTorch plugin \"upfirdn2d_plugin\"... "
     ]
    },
    {
     "name": "stderr",
     "output_type": "stream",
     "text": [
      "C:\\Users\\cszha\\styleGAN\\stylegan2-ada-pytorch\\torch_utils\\ops\\upfirdn2d.py:34: UserWarning: Failed to build CUDA kernels for upfirdn2d. Falling back to slow reference implementation. Details:\n",
      "\n",
      "Traceback (most recent call last):\n",
      "  File \"C:\\Users\\cszha\\styleGAN\\stylegan2-ada-pytorch\\torch_utils\\ops\\upfirdn2d.py\", line 32, in _init\n",
      "    _plugin = custom_ops.get_plugin('upfirdn2d_plugin', sources=sources, extra_cuda_cflags=['--use_fast_math'])\n",
      "  File \"C:\\Users\\cszha\\styleGAN\\stylegan2-ada-pytorch\\torch_utils\\custom_ops.py\", line 64, in get_plugin\n",
      "    raise RuntimeError(f'Could not find MSVC/GCC/CLANG installation on this computer. Check _find_compiler_bindir() in \"{__file__}\".')\n",
      "RuntimeError: Could not find MSVC/GCC/CLANG installation on this computer. Check _find_compiler_bindir() in \"C:\\Users\\cszha\\styleGAN\\stylegan2-ada-pytorch\\torch_utils\\custom_ops.py\".\n",
      "\n",
      "  warnings.warn('Failed to build CUDA kernels for upfirdn2d. Falling back to slow reference implementation. Details:\\n\\n' + traceback.format_exc())\n",
      "C:\\Users\\cszha\\styleGAN\\stylegan2-ada-pytorch\\torch_utils\\ops\\upfirdn2d.py:34: UserWarning: Failed to build CUDA kernels for upfirdn2d. Falling back to slow reference implementation. Details:\n",
      "\n",
      "Traceback (most recent call last):\n",
      "  File \"C:\\Users\\cszha\\styleGAN\\stylegan2-ada-pytorch\\torch_utils\\ops\\upfirdn2d.py\", line 32, in _init\n",
      "    _plugin = custom_ops.get_plugin('upfirdn2d_plugin', sources=sources, extra_cuda_cflags=['--use_fast_math'])\n",
      "  File \"C:\\Users\\cszha\\styleGAN\\stylegan2-ada-pytorch\\torch_utils\\custom_ops.py\", line 64, in get_plugin\n",
      "    raise RuntimeError(f'Could not find MSVC/GCC/CLANG installation on this computer. Check _find_compiler_bindir() in \"{__file__}\".')\n",
      "RuntimeError: Could not find MSVC/GCC/CLANG installation on this computer. Check _find_compiler_bindir() in \"C:\\Users\\cszha\\styleGAN\\stylegan2-ada-pytorch\\torch_utils\\custom_ops.py\".\n",
      "\n",
      "  warnings.warn('Failed to build CUDA kernels for upfirdn2d. Falling back to slow reference implementation. Details:\\n\\n' + traceback.format_exc())\n"
     ]
    },
    {
     "name": "stdout",
     "output_type": "stream",
     "text": [
      "Failed!\n",
      "Setting up PyTorch plugin \"upfirdn2d_plugin\"... Failed!\n",
      "Setting up PyTorch plugin \"upfirdn2d_plugin\"... "
     ]
    },
    {
     "name": "stderr",
     "output_type": "stream",
     "text": [
      "C:\\Users\\cszha\\styleGAN\\stylegan2-ada-pytorch\\torch_utils\\ops\\upfirdn2d.py:34: UserWarning: Failed to build CUDA kernels for upfirdn2d. Falling back to slow reference implementation. Details:\n",
      "\n",
      "Traceback (most recent call last):\n",
      "  File \"C:\\Users\\cszha\\styleGAN\\stylegan2-ada-pytorch\\torch_utils\\ops\\upfirdn2d.py\", line 32, in _init\n",
      "    _plugin = custom_ops.get_plugin('upfirdn2d_plugin', sources=sources, extra_cuda_cflags=['--use_fast_math'])\n",
      "  File \"C:\\Users\\cszha\\styleGAN\\stylegan2-ada-pytorch\\torch_utils\\custom_ops.py\", line 64, in get_plugin\n",
      "    raise RuntimeError(f'Could not find MSVC/GCC/CLANG installation on this computer. Check _find_compiler_bindir() in \"{__file__}\".')\n",
      "RuntimeError: Could not find MSVC/GCC/CLANG installation on this computer. Check _find_compiler_bindir() in \"C:\\Users\\cszha\\styleGAN\\stylegan2-ada-pytorch\\torch_utils\\custom_ops.py\".\n",
      "\n",
      "  warnings.warn('Failed to build CUDA kernels for upfirdn2d. Falling back to slow reference implementation. Details:\\n\\n' + traceback.format_exc())\n",
      "C:\\Users\\cszha\\styleGAN\\stylegan2-ada-pytorch\\torch_utils\\ops\\upfirdn2d.py:34: UserWarning: Failed to build CUDA kernels for upfirdn2d. Falling back to slow reference implementation. Details:\n",
      "\n",
      "Traceback (most recent call last):\n",
      "  File \"C:\\Users\\cszha\\styleGAN\\stylegan2-ada-pytorch\\torch_utils\\ops\\upfirdn2d.py\", line 32, in _init\n",
      "    _plugin = custom_ops.get_plugin('upfirdn2d_plugin', sources=sources, extra_cuda_cflags=['--use_fast_math'])\n",
      "  File \"C:\\Users\\cszha\\styleGAN\\stylegan2-ada-pytorch\\torch_utils\\custom_ops.py\", line 64, in get_plugin\n",
      "    raise RuntimeError(f'Could not find MSVC/GCC/CLANG installation on this computer. Check _find_compiler_bindir() in \"{__file__}\".')\n",
      "RuntimeError: Could not find MSVC/GCC/CLANG installation on this computer. Check _find_compiler_bindir() in \"C:\\Users\\cszha\\styleGAN\\stylegan2-ada-pytorch\\torch_utils\\custom_ops.py\".\n",
      "\n",
      "  warnings.warn('Failed to build CUDA kernels for upfirdn2d. Falling back to slow reference implementation. Details:\\n\\n' + traceback.format_exc())\n"
     ]
    },
    {
     "name": "stdout",
     "output_type": "stream",
     "text": [
      "Failed!\n",
      "Setting up PyTorch plugin \"upfirdn2d_plugin\"... Failed!\n",
      "Setting up PyTorch plugin \"upfirdn2d_plugin\"... Failed!\n"
     ]
    },
    {
     "name": "stderr",
     "output_type": "stream",
     "text": [
      "C:\\Users\\cszha\\styleGAN\\stylegan2-ada-pytorch\\torch_utils\\ops\\upfirdn2d.py:34: UserWarning: Failed to build CUDA kernels for upfirdn2d. Falling back to slow reference implementation. Details:\n",
      "\n",
      "Traceback (most recent call last):\n",
      "  File \"C:\\Users\\cszha\\styleGAN\\stylegan2-ada-pytorch\\torch_utils\\ops\\upfirdn2d.py\", line 32, in _init\n",
      "    _plugin = custom_ops.get_plugin('upfirdn2d_plugin', sources=sources, extra_cuda_cflags=['--use_fast_math'])\n",
      "  File \"C:\\Users\\cszha\\styleGAN\\stylegan2-ada-pytorch\\torch_utils\\custom_ops.py\", line 64, in get_plugin\n",
      "    raise RuntimeError(f'Could not find MSVC/GCC/CLANG installation on this computer. Check _find_compiler_bindir() in \"{__file__}\".')\n",
      "RuntimeError: Could not find MSVC/GCC/CLANG installation on this computer. Check _find_compiler_bindir() in \"C:\\Users\\cszha\\styleGAN\\stylegan2-ada-pytorch\\torch_utils\\custom_ops.py\".\n",
      "\n",
      "  warnings.warn('Failed to build CUDA kernels for upfirdn2d. Falling back to slow reference implementation. Details:\\n\\n' + traceback.format_exc())\n",
      "C:\\Users\\cszha\\styleGAN\\stylegan2-ada-pytorch\\torch_utils\\ops\\upfirdn2d.py:34: UserWarning: Failed to build CUDA kernels for upfirdn2d. Falling back to slow reference implementation. Details:\n",
      "\n",
      "Traceback (most recent call last):\n",
      "  File \"C:\\Users\\cszha\\styleGAN\\stylegan2-ada-pytorch\\torch_utils\\ops\\upfirdn2d.py\", line 32, in _init\n",
      "    _plugin = custom_ops.get_plugin('upfirdn2d_plugin', sources=sources, extra_cuda_cflags=['--use_fast_math'])\n",
      "  File \"C:\\Users\\cszha\\styleGAN\\stylegan2-ada-pytorch\\torch_utils\\custom_ops.py\", line 64, in get_plugin\n",
      "    raise RuntimeError(f'Could not find MSVC/GCC/CLANG installation on this computer. Check _find_compiler_bindir() in \"{__file__}\".')\n",
      "RuntimeError: Could not find MSVC/GCC/CLANG installation on this computer. Check _find_compiler_bindir() in \"C:\\Users\\cszha\\styleGAN\\stylegan2-ada-pytorch\\torch_utils\\custom_ops.py\".\n",
      "\n",
      "  warnings.warn('Failed to build CUDA kernels for upfirdn2d. Falling back to slow reference implementation. Details:\\n\\n' + traceback.format_exc())\n"
     ]
    },
    {
     "name": "stdout",
     "output_type": "stream",
     "text": [
      "Setting up PyTorch plugin \"upfirdn2d_plugin\"... Failed!\n",
      "Setting up PyTorch plugin \"upfirdn2d_plugin\"... Failed!\n"
     ]
    },
    {
     "name": "stderr",
     "output_type": "stream",
     "text": [
      "C:\\Users\\cszha\\styleGAN\\stylegan2-ada-pytorch\\torch_utils\\ops\\upfirdn2d.py:34: UserWarning: Failed to build CUDA kernels for upfirdn2d. Falling back to slow reference implementation. Details:\n",
      "\n",
      "Traceback (most recent call last):\n",
      "  File \"C:\\Users\\cszha\\styleGAN\\stylegan2-ada-pytorch\\torch_utils\\ops\\upfirdn2d.py\", line 32, in _init\n",
      "    _plugin = custom_ops.get_plugin('upfirdn2d_plugin', sources=sources, extra_cuda_cflags=['--use_fast_math'])\n",
      "  File \"C:\\Users\\cszha\\styleGAN\\stylegan2-ada-pytorch\\torch_utils\\custom_ops.py\", line 64, in get_plugin\n",
      "    raise RuntimeError(f'Could not find MSVC/GCC/CLANG installation on this computer. Check _find_compiler_bindir() in \"{__file__}\".')\n",
      "RuntimeError: Could not find MSVC/GCC/CLANG installation on this computer. Check _find_compiler_bindir() in \"C:\\Users\\cszha\\styleGAN\\stylegan2-ada-pytorch\\torch_utils\\custom_ops.py\".\n",
      "\n",
      "  warnings.warn('Failed to build CUDA kernels for upfirdn2d. Falling back to slow reference implementation. Details:\\n\\n' + traceback.format_exc())\n",
      "C:\\Users\\cszha\\styleGAN\\stylegan2-ada-pytorch\\torch_utils\\ops\\upfirdn2d.py:34: UserWarning: Failed to build CUDA kernels for upfirdn2d. Falling back to slow reference implementation. Details:\n",
      "\n",
      "Traceback (most recent call last):\n",
      "  File \"C:\\Users\\cszha\\styleGAN\\stylegan2-ada-pytorch\\torch_utils\\ops\\upfirdn2d.py\", line 32, in _init\n",
      "    _plugin = custom_ops.get_plugin('upfirdn2d_plugin', sources=sources, extra_cuda_cflags=['--use_fast_math'])\n",
      "  File \"C:\\Users\\cszha\\styleGAN\\stylegan2-ada-pytorch\\torch_utils\\custom_ops.py\", line 64, in get_plugin\n",
      "    raise RuntimeError(f'Could not find MSVC/GCC/CLANG installation on this computer. Check _find_compiler_bindir() in \"{__file__}\".')\n",
      "RuntimeError: Could not find MSVC/GCC/CLANG installation on this computer. Check _find_compiler_bindir() in \"C:\\Users\\cszha\\styleGAN\\stylegan2-ada-pytorch\\torch_utils\\custom_ops.py\".\n",
      "\n",
      "  warnings.warn('Failed to build CUDA kernels for upfirdn2d. Falling back to slow reference implementation. Details:\\n\\n' + traceback.format_exc())\n",
      "C:\\Users\\cszha\\styleGAN\\stylegan2-ada-pytorch\\torch_utils\\ops\\upfirdn2d.py:34: UserWarning: Failed to build CUDA kernels for upfirdn2d. Falling back to slow reference implementation. Details:\n",
      "\n",
      "Traceback (most recent call last):\n",
      "  File \"C:\\Users\\cszha\\styleGAN\\stylegan2-ada-pytorch\\torch_utils\\ops\\upfirdn2d.py\", line 32, in _init\n",
      "    _plugin = custom_ops.get_plugin('upfirdn2d_plugin', sources=sources, extra_cuda_cflags=['--use_fast_math'])\n",
      "  File \"C:\\Users\\cszha\\styleGAN\\stylegan2-ada-pytorch\\torch_utils\\custom_ops.py\", line 64, in get_plugin\n",
      "    raise RuntimeError(f'Could not find MSVC/GCC/CLANG installation on this computer. Check _find_compiler_bindir() in \"{__file__}\".')\n",
      "RuntimeError: Could not find MSVC/GCC/CLANG installation on this computer. Check _find_compiler_bindir() in \"C:\\Users\\cszha\\styleGAN\\stylegan2-ada-pytorch\\torch_utils\\custom_ops.py\".\n",
      "\n",
      "  warnings.warn('Failed to build CUDA kernels for upfirdn2d. Falling back to slow reference implementation. Details:\\n\\n' + traceback.format_exc())\n"
     ]
    },
    {
     "name": "stdout",
     "output_type": "stream",
     "text": [
      "Setting up PyTorch plugin \"upfirdn2d_plugin\"... Failed!\n",
      "Generating image for seed 85743 (9/10) ...\n",
      "Setting up PyTorch plugin \"upfirdn2d_plugin\"... Failed!\n",
      "Setting up PyTorch plugin \"upfirdn2d_plugin\"... "
     ]
    },
    {
     "name": "stderr",
     "output_type": "stream",
     "text": [
      "C:\\Users\\cszha\\styleGAN\\stylegan2-ada-pytorch\\torch_utils\\ops\\upfirdn2d.py:34: UserWarning: Failed to build CUDA kernels for upfirdn2d. Falling back to slow reference implementation. Details:\n",
      "\n",
      "Traceback (most recent call last):\n",
      "  File \"C:\\Users\\cszha\\styleGAN\\stylegan2-ada-pytorch\\torch_utils\\ops\\upfirdn2d.py\", line 32, in _init\n",
      "    _plugin = custom_ops.get_plugin('upfirdn2d_plugin', sources=sources, extra_cuda_cflags=['--use_fast_math'])\n",
      "  File \"C:\\Users\\cszha\\styleGAN\\stylegan2-ada-pytorch\\torch_utils\\custom_ops.py\", line 64, in get_plugin\n",
      "    raise RuntimeError(f'Could not find MSVC/GCC/CLANG installation on this computer. Check _find_compiler_bindir() in \"{__file__}\".')\n",
      "RuntimeError: Could not find MSVC/GCC/CLANG installation on this computer. Check _find_compiler_bindir() in \"C:\\Users\\cszha\\styleGAN\\stylegan2-ada-pytorch\\torch_utils\\custom_ops.py\".\n",
      "\n",
      "  warnings.warn('Failed to build CUDA kernels for upfirdn2d. Falling back to slow reference implementation. Details:\\n\\n' + traceback.format_exc())\n",
      "C:\\Users\\cszha\\styleGAN\\stylegan2-ada-pytorch\\torch_utils\\ops\\upfirdn2d.py:34: UserWarning: Failed to build CUDA kernels for upfirdn2d. Falling back to slow reference implementation. Details:\n",
      "\n",
      "Traceback (most recent call last):\n",
      "  File \"C:\\Users\\cszha\\styleGAN\\stylegan2-ada-pytorch\\torch_utils\\ops\\upfirdn2d.py\", line 32, in _init\n",
      "    _plugin = custom_ops.get_plugin('upfirdn2d_plugin', sources=sources, extra_cuda_cflags=['--use_fast_math'])\n",
      "  File \"C:\\Users\\cszha\\styleGAN\\stylegan2-ada-pytorch\\torch_utils\\custom_ops.py\", line 64, in get_plugin\n",
      "    raise RuntimeError(f'Could not find MSVC/GCC/CLANG installation on this computer. Check _find_compiler_bindir() in \"{__file__}\".')\n",
      "RuntimeError: Could not find MSVC/GCC/CLANG installation on this computer. Check _find_compiler_bindir() in \"C:\\Users\\cszha\\styleGAN\\stylegan2-ada-pytorch\\torch_utils\\custom_ops.py\".\n",
      "\n",
      "  warnings.warn('Failed to build CUDA kernels for upfirdn2d. Falling back to slow reference implementation. Details:\\n\\n' + traceback.format_exc())\n"
     ]
    },
    {
     "name": "stdout",
     "output_type": "stream",
     "text": [
      "Failed!\n",
      "Setting up PyTorch plugin \"upfirdn2d_plugin\"... Failed!\n",
      "Setting up PyTorch plugin \"upfirdn2d_plugin\"... "
     ]
    },
    {
     "name": "stderr",
     "output_type": "stream",
     "text": [
      "C:\\Users\\cszha\\styleGAN\\stylegan2-ada-pytorch\\torch_utils\\ops\\upfirdn2d.py:34: UserWarning: Failed to build CUDA kernels for upfirdn2d. Falling back to slow reference implementation. Details:\n",
      "\n",
      "Traceback (most recent call last):\n",
      "  File \"C:\\Users\\cszha\\styleGAN\\stylegan2-ada-pytorch\\torch_utils\\ops\\upfirdn2d.py\", line 32, in _init\n",
      "    _plugin = custom_ops.get_plugin('upfirdn2d_plugin', sources=sources, extra_cuda_cflags=['--use_fast_math'])\n",
      "  File \"C:\\Users\\cszha\\styleGAN\\stylegan2-ada-pytorch\\torch_utils\\custom_ops.py\", line 64, in get_plugin\n",
      "    raise RuntimeError(f'Could not find MSVC/GCC/CLANG installation on this computer. Check _find_compiler_bindir() in \"{__file__}\".')\n",
      "RuntimeError: Could not find MSVC/GCC/CLANG installation on this computer. Check _find_compiler_bindir() in \"C:\\Users\\cszha\\styleGAN\\stylegan2-ada-pytorch\\torch_utils\\custom_ops.py\".\n",
      "\n",
      "  warnings.warn('Failed to build CUDA kernels for upfirdn2d. Falling back to slow reference implementation. Details:\\n\\n' + traceback.format_exc())\n",
      "C:\\Users\\cszha\\styleGAN\\stylegan2-ada-pytorch\\torch_utils\\ops\\upfirdn2d.py:34: UserWarning: Failed to build CUDA kernels for upfirdn2d. Falling back to slow reference implementation. Details:\n",
      "\n",
      "Traceback (most recent call last):\n",
      "  File \"C:\\Users\\cszha\\styleGAN\\stylegan2-ada-pytorch\\torch_utils\\ops\\upfirdn2d.py\", line 32, in _init\n",
      "    _plugin = custom_ops.get_plugin('upfirdn2d_plugin', sources=sources, extra_cuda_cflags=['--use_fast_math'])\n",
      "  File \"C:\\Users\\cszha\\styleGAN\\stylegan2-ada-pytorch\\torch_utils\\custom_ops.py\", line 64, in get_plugin\n",
      "    raise RuntimeError(f'Could not find MSVC/GCC/CLANG installation on this computer. Check _find_compiler_bindir() in \"{__file__}\".')\n",
      "RuntimeError: Could not find MSVC/GCC/CLANG installation on this computer. Check _find_compiler_bindir() in \"C:\\Users\\cszha\\styleGAN\\stylegan2-ada-pytorch\\torch_utils\\custom_ops.py\".\n",
      "\n",
      "  warnings.warn('Failed to build CUDA kernels for upfirdn2d. Falling back to slow reference implementation. Details:\\n\\n' + traceback.format_exc())\n"
     ]
    },
    {
     "name": "stdout",
     "output_type": "stream",
     "text": [
      "Failed!\n",
      "Setting up PyTorch plugin \"upfirdn2d_plugin\"... Failed!\n",
      "Setting up PyTorch plugin \"upfirdn2d_plugin\"... "
     ]
    },
    {
     "name": "stderr",
     "output_type": "stream",
     "text": [
      "C:\\Users\\cszha\\styleGAN\\stylegan2-ada-pytorch\\torch_utils\\ops\\upfirdn2d.py:34: UserWarning: Failed to build CUDA kernels for upfirdn2d. Falling back to slow reference implementation. Details:\n",
      "\n",
      "Traceback (most recent call last):\n",
      "  File \"C:\\Users\\cszha\\styleGAN\\stylegan2-ada-pytorch\\torch_utils\\ops\\upfirdn2d.py\", line 32, in _init\n",
      "    _plugin = custom_ops.get_plugin('upfirdn2d_plugin', sources=sources, extra_cuda_cflags=['--use_fast_math'])\n",
      "  File \"C:\\Users\\cszha\\styleGAN\\stylegan2-ada-pytorch\\torch_utils\\custom_ops.py\", line 64, in get_plugin\n",
      "    raise RuntimeError(f'Could not find MSVC/GCC/CLANG installation on this computer. Check _find_compiler_bindir() in \"{__file__}\".')\n",
      "RuntimeError: Could not find MSVC/GCC/CLANG installation on this computer. Check _find_compiler_bindir() in \"C:\\Users\\cszha\\styleGAN\\stylegan2-ada-pytorch\\torch_utils\\custom_ops.py\".\n",
      "\n",
      "  warnings.warn('Failed to build CUDA kernels for upfirdn2d. Falling back to slow reference implementation. Details:\\n\\n' + traceback.format_exc())\n",
      "C:\\Users\\cszha\\styleGAN\\stylegan2-ada-pytorch\\torch_utils\\ops\\upfirdn2d.py:34: UserWarning: Failed to build CUDA kernels for upfirdn2d. Falling back to slow reference implementation. Details:\n",
      "\n",
      "Traceback (most recent call last):\n",
      "  File \"C:\\Users\\cszha\\styleGAN\\stylegan2-ada-pytorch\\torch_utils\\ops\\upfirdn2d.py\", line 32, in _init\n",
      "    _plugin = custom_ops.get_plugin('upfirdn2d_plugin', sources=sources, extra_cuda_cflags=['--use_fast_math'])\n",
      "  File \"C:\\Users\\cszha\\styleGAN\\stylegan2-ada-pytorch\\torch_utils\\custom_ops.py\", line 64, in get_plugin\n",
      "    raise RuntimeError(f'Could not find MSVC/GCC/CLANG installation on this computer. Check _find_compiler_bindir() in \"{__file__}\".')\n",
      "RuntimeError: Could not find MSVC/GCC/CLANG installation on this computer. Check _find_compiler_bindir() in \"C:\\Users\\cszha\\styleGAN\\stylegan2-ada-pytorch\\torch_utils\\custom_ops.py\".\n",
      "\n",
      "  warnings.warn('Failed to build CUDA kernels for upfirdn2d. Falling back to slow reference implementation. Details:\\n\\n' + traceback.format_exc())\n"
     ]
    },
    {
     "name": "stdout",
     "output_type": "stream",
     "text": [
      "Failed!\n",
      "Setting up PyTorch plugin \"upfirdn2d_plugin\"... Failed!\n",
      "Setting up PyTorch plugin \"upfirdn2d_plugin\"... Failed!\n"
     ]
    },
    {
     "name": "stderr",
     "output_type": "stream",
     "text": [
      "C:\\Users\\cszha\\styleGAN\\stylegan2-ada-pytorch\\torch_utils\\ops\\upfirdn2d.py:34: UserWarning: Failed to build CUDA kernels for upfirdn2d. Falling back to slow reference implementation. Details:\n",
      "\n",
      "Traceback (most recent call last):\n",
      "  File \"C:\\Users\\cszha\\styleGAN\\stylegan2-ada-pytorch\\torch_utils\\ops\\upfirdn2d.py\", line 32, in _init\n",
      "    _plugin = custom_ops.get_plugin('upfirdn2d_plugin', sources=sources, extra_cuda_cflags=['--use_fast_math'])\n",
      "  File \"C:\\Users\\cszha\\styleGAN\\stylegan2-ada-pytorch\\torch_utils\\custom_ops.py\", line 64, in get_plugin\n",
      "    raise RuntimeError(f'Could not find MSVC/GCC/CLANG installation on this computer. Check _find_compiler_bindir() in \"{__file__}\".')\n",
      "RuntimeError: Could not find MSVC/GCC/CLANG installation on this computer. Check _find_compiler_bindir() in \"C:\\Users\\cszha\\styleGAN\\stylegan2-ada-pytorch\\torch_utils\\custom_ops.py\".\n",
      "\n",
      "  warnings.warn('Failed to build CUDA kernels for upfirdn2d. Falling back to slow reference implementation. Details:\\n\\n' + traceback.format_exc())\n",
      "C:\\Users\\cszha\\styleGAN\\stylegan2-ada-pytorch\\torch_utils\\ops\\upfirdn2d.py:34: UserWarning: Failed to build CUDA kernels for upfirdn2d. Falling back to slow reference implementation. Details:\n",
      "\n",
      "Traceback (most recent call last):\n",
      "  File \"C:\\Users\\cszha\\styleGAN\\stylegan2-ada-pytorch\\torch_utils\\ops\\upfirdn2d.py\", line 32, in _init\n",
      "    _plugin = custom_ops.get_plugin('upfirdn2d_plugin', sources=sources, extra_cuda_cflags=['--use_fast_math'])\n",
      "  File \"C:\\Users\\cszha\\styleGAN\\stylegan2-ada-pytorch\\torch_utils\\custom_ops.py\", line 64, in get_plugin\n",
      "    raise RuntimeError(f'Could not find MSVC/GCC/CLANG installation on this computer. Check _find_compiler_bindir() in \"{__file__}\".')\n",
      "RuntimeError: Could not find MSVC/GCC/CLANG installation on this computer. Check _find_compiler_bindir() in \"C:\\Users\\cszha\\styleGAN\\stylegan2-ada-pytorch\\torch_utils\\custom_ops.py\".\n",
      "\n",
      "  warnings.warn('Failed to build CUDA kernels for upfirdn2d. Falling back to slow reference implementation. Details:\\n\\n' + traceback.format_exc())\n"
     ]
    },
    {
     "name": "stdout",
     "output_type": "stream",
     "text": [
      "Setting up PyTorch plugin \"upfirdn2d_plugin\"... Failed!\n",
      "Setting up PyTorch plugin \"upfirdn2d_plugin\"... Failed!\n",
      "Setting up PyTorch plugin \"upfirdn2d_plugin\"... Failed!\n"
     ]
    },
    {
     "name": "stderr",
     "output_type": "stream",
     "text": [
      "C:\\Users\\cszha\\styleGAN\\stylegan2-ada-pytorch\\torch_utils\\ops\\upfirdn2d.py:34: UserWarning: Failed to build CUDA kernels for upfirdn2d. Falling back to slow reference implementation. Details:\n",
      "\n",
      "Traceback (most recent call last):\n",
      "  File \"C:\\Users\\cszha\\styleGAN\\stylegan2-ada-pytorch\\torch_utils\\ops\\upfirdn2d.py\", line 32, in _init\n",
      "    _plugin = custom_ops.get_plugin('upfirdn2d_plugin', sources=sources, extra_cuda_cflags=['--use_fast_math'])\n",
      "  File \"C:\\Users\\cszha\\styleGAN\\stylegan2-ada-pytorch\\torch_utils\\custom_ops.py\", line 64, in get_plugin\n",
      "    raise RuntimeError(f'Could not find MSVC/GCC/CLANG installation on this computer. Check _find_compiler_bindir() in \"{__file__}\".')\n",
      "RuntimeError: Could not find MSVC/GCC/CLANG installation on this computer. Check _find_compiler_bindir() in \"C:\\Users\\cszha\\styleGAN\\stylegan2-ada-pytorch\\torch_utils\\custom_ops.py\".\n",
      "\n",
      "  warnings.warn('Failed to build CUDA kernels for upfirdn2d. Falling back to slow reference implementation. Details:\\n\\n' + traceback.format_exc())\n",
      "C:\\Users\\cszha\\styleGAN\\stylegan2-ada-pytorch\\torch_utils\\ops\\upfirdn2d.py:34: UserWarning: Failed to build CUDA kernels for upfirdn2d. Falling back to slow reference implementation. Details:\n",
      "\n",
      "Traceback (most recent call last):\n",
      "  File \"C:\\Users\\cszha\\styleGAN\\stylegan2-ada-pytorch\\torch_utils\\ops\\upfirdn2d.py\", line 32, in _init\n",
      "    _plugin = custom_ops.get_plugin('upfirdn2d_plugin', sources=sources, extra_cuda_cflags=['--use_fast_math'])\n",
      "  File \"C:\\Users\\cszha\\styleGAN\\stylegan2-ada-pytorch\\torch_utils\\custom_ops.py\", line 64, in get_plugin\n",
      "    raise RuntimeError(f'Could not find MSVC/GCC/CLANG installation on this computer. Check _find_compiler_bindir() in \"{__file__}\".')\n",
      "RuntimeError: Could not find MSVC/GCC/CLANG installation on this computer. Check _find_compiler_bindir() in \"C:\\Users\\cszha\\styleGAN\\stylegan2-ada-pytorch\\torch_utils\\custom_ops.py\".\n",
      "\n",
      "  warnings.warn('Failed to build CUDA kernels for upfirdn2d. Falling back to slow reference implementation. Details:\\n\\n' + traceback.format_exc())\n",
      "C:\\Users\\cszha\\styleGAN\\stylegan2-ada-pytorch\\torch_utils\\ops\\upfirdn2d.py:34: UserWarning: Failed to build CUDA kernels for upfirdn2d. Falling back to slow reference implementation. Details:\n",
      "\n",
      "Traceback (most recent call last):\n",
      "  File \"C:\\Users\\cszha\\styleGAN\\stylegan2-ada-pytorch\\torch_utils\\ops\\upfirdn2d.py\", line 32, in _init\n",
      "    _plugin = custom_ops.get_plugin('upfirdn2d_plugin', sources=sources, extra_cuda_cflags=['--use_fast_math'])\n",
      "  File \"C:\\Users\\cszha\\styleGAN\\stylegan2-ada-pytorch\\torch_utils\\custom_ops.py\", line 64, in get_plugin\n",
      "    raise RuntimeError(f'Could not find MSVC/GCC/CLANG installation on this computer. Check _find_compiler_bindir() in \"{__file__}\".')\n",
      "RuntimeError: Could not find MSVC/GCC/CLANG installation on this computer. Check _find_compiler_bindir() in \"C:\\Users\\cszha\\styleGAN\\stylegan2-ada-pytorch\\torch_utils\\custom_ops.py\".\n",
      "\n",
      "  warnings.warn('Failed to build CUDA kernels for upfirdn2d. Falling back to slow reference implementation. Details:\\n\\n' + traceback.format_exc())\n"
     ]
    },
    {
     "name": "stdout",
     "output_type": "stream",
     "text": [
      "Setting up PyTorch plugin \"upfirdn2d_plugin\"... Failed!\n"
     ]
    },
    {
     "name": "stderr",
     "output_type": "stream",
     "text": [
      "C:\\Users\\cszha\\styleGAN\\stylegan2-ada-pytorch\\torch_utils\\ops\\upfirdn2d.py:34: UserWarning: Failed to build CUDA kernels for upfirdn2d. Falling back to slow reference implementation. Details:\n",
      "\n",
      "Traceback (most recent call last):\n",
      "  File \"C:\\Users\\cszha\\styleGAN\\stylegan2-ada-pytorch\\torch_utils\\ops\\upfirdn2d.py\", line 32, in _init\n",
      "    _plugin = custom_ops.get_plugin('upfirdn2d_plugin', sources=sources, extra_cuda_cflags=['--use_fast_math'])\n",
      "  File \"C:\\Users\\cszha\\styleGAN\\stylegan2-ada-pytorch\\torch_utils\\custom_ops.py\", line 64, in get_plugin\n",
      "    raise RuntimeError(f'Could not find MSVC/GCC/CLANG installation on this computer. Check _find_compiler_bindir() in \"{__file__}\".')\n",
      "RuntimeError: Could not find MSVC/GCC/CLANG installation on this computer. Check _find_compiler_bindir() in \"C:\\Users\\cszha\\styleGAN\\stylegan2-ada-pytorch\\torch_utils\\custom_ops.py\".\n",
      "\n",
      "  warnings.warn('Failed to build CUDA kernels for upfirdn2d. Falling back to slow reference implementation. Details:\\n\\n' + traceback.format_exc())\n",
      "C:\\Users\\cszha\\styleGAN\\stylegan2-ada-pytorch\\torch_utils\\ops\\upfirdn2d.py:34: UserWarning: Failed to build CUDA kernels for upfirdn2d. Falling back to slow reference implementation. Details:\n",
      "\n",
      "Traceback (most recent call last):\n",
      "  File \"C:\\Users\\cszha\\styleGAN\\stylegan2-ada-pytorch\\torch_utils\\ops\\upfirdn2d.py\", line 32, in _init\n",
      "    _plugin = custom_ops.get_plugin('upfirdn2d_plugin', sources=sources, extra_cuda_cflags=['--use_fast_math'])\n",
      "  File \"C:\\Users\\cszha\\styleGAN\\stylegan2-ada-pytorch\\torch_utils\\custom_ops.py\", line 64, in get_plugin\n",
      "    raise RuntimeError(f'Could not find MSVC/GCC/CLANG installation on this computer. Check _find_compiler_bindir() in \"{__file__}\".')\n",
      "RuntimeError: Could not find MSVC/GCC/CLANG installation on this computer. Check _find_compiler_bindir() in \"C:\\Users\\cszha\\styleGAN\\stylegan2-ada-pytorch\\torch_utils\\custom_ops.py\".\n",
      "\n",
      "  warnings.warn('Failed to build CUDA kernels for upfirdn2d. Falling back to slow reference implementation. Details:\\n\\n' + traceback.format_exc())\n"
     ]
    }
   ],
   "source": [
    "generate_from_seed(url, seeds, expanded_seeds, outdir_1)"
   ]
  }
 ],
 "metadata": {
  "kernelspec": {
   "display_name": "Python [conda env:stylegan-pytorch] *",
   "language": "python",
   "name": "conda-env-stylegan-pytorch-py"
  },
  "language_info": {
   "codemirror_mode": {
    "name": "ipython",
    "version": 3
   },
   "file_extension": ".py",
   "mimetype": "text/x-python",
   "name": "python",
   "nbconvert_exporter": "python",
   "pygments_lexer": "ipython3",
   "version": "3.7.11"
  }
 },
 "nbformat": 4,
 "nbformat_minor": 5
}
